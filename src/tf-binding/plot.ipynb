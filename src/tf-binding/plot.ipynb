{
 "cells": [
  {
   "cell_type": "markdown",
   "metadata": {},
   "source": [
    "## Goal\n",
    "\n",
    "- reproduce the final performance plot for all the methods"
   ]
  },
  {
   "cell_type": "markdown",
   "metadata": {},
   "source": [
    "## TODO\n",
    "\n",
    "- [x] setup bootstrapping performance\n",
    "- [x] investigate FactorNet relatively poor performance\n",
    "\n",
    "## Geral notes\n",
    "\n",
    "- Class imbalance ratios:\n",
    "  - genome-wide: .1%-1%\n",
    "  - accessible regions: 1%-10%"
   ]
  },
  {
   "cell_type": "code",
   "execution_count": 25,
   "metadata": {},
   "outputs": [],
   "source": [
    "import kipoi\n",
    "import os\n",
    "import sys\n",
    "import pandas as pd\n",
    "from config import SINGLE_TASK_MODELS, get_dl_kwargs, TF2CT\n",
    "from kipoi.readers import HDF5Reader\n",
    "from concise.eval_metrics import auprc, auc, accuracy\n",
    "from collections import OrderedDict\n",
    "import seaborn as sns\n",
    "from pybedtools import BedTool\n",
    "import numpy as np\n",
    "import matplotlib.pyplot as plt\n",
    "from tqdm import tqdm\n",
    "from joblib import Parallel, delayed\n",
    "from m_kipoi.metrics import classification_metrics, MetricsTupleList, BootstrapMetric\n",
    "from m_kipoi.exp.tfbinding.data import get_eval_predictions, get_DeepSEA_idx\n",
    "from m_kipoi.exp.tfbinding.eval import eval_model"
   ]
  },
  {
   "cell_type": "code",
   "execution_count": 23,
   "metadata": {},
   "outputs": [],
   "source": [
    "root_dir = '../../../'\n",
    "eval_dir = root_dir + 'data/processed/tfbinding/eval/preds'\n",
    "matrics_dir = root_dir + 'data/processed/tfbinding/eval/metrics'\n",
    "plot_dir = root_dir + 'data/processed/tfbinding/eval/plots'"
   ]
  },
  {
   "cell_type": "code",
   "execution_count": 3,
   "metadata": {},
   "outputs": [
    {
     "name": "stdout",
     "output_type": "stream",
     "text": [
      "../../../data/processed/tfbinding/eval/preds@\n"
     ]
    }
   ],
   "source": [
    "ls {eval_dir}"
   ]
  },
  {
   "cell_type": "code",
   "execution_count": 4,
   "metadata": {},
   "outputs": [],
   "source": [
    "tf = 'CEBPB'\n",
    "model = 'DeepBind'"
   ]
  },
  {
   "cell_type": "code",
   "execution_count": 5,
   "metadata": {},
   "outputs": [],
   "source": [
    "MODELS = list({m for tf, v in SINGLE_TASK_MODELS.items() for m in v})\n",
    "TFS = set(SINGLE_TASK_MODELS)"
   ]
  },
  {
   "cell_type": "code",
   "execution_count": 6,
   "metadata": {},
   "outputs": [],
   "source": [
    "MODELS = ['pwm_HOCOMOCO', 'DeepBind', 'lsgkm-SVM', 'DeepSEA', 'FactorNet']"
   ]
  },
  {
   "cell_type": "code",
   "execution_count": 14,
   "metadata": {},
   "outputs": [
    {
     "name": "stderr",
     "output_type": "stream",
     "text": [
      "2018-05-02 19:13:53,971 [INFO] Update /users/avsec/.kipoi/models/\n"
     ]
    }
   ],
   "source": [
    "n = pd.Series(kipoi.get_model_descr(\"DeepSEA/predict\").schema.targets.column_labels)"
   ]
  },
  {
   "cell_type": "code",
   "execution_count": 15,
   "metadata": {},
   "outputs": [
    {
     "data": {
      "text/plain": [
       "560"
      ]
     },
     "execution_count": 15,
     "metadata": {},
     "output_type": "execute_result"
    }
   ],
   "source": [
    "get_DeepSEA_idx(\"JUND\", \"HepG2\")"
   ]
  },
  {
   "cell_type": "code",
   "execution_count": 16,
   "metadata": {},
   "outputs": [
    {
     "data": {
      "text/plain": [
       "8"
      ]
     },
     "execution_count": 16,
     "metadata": {},
     "output_type": "execute_result"
    }
   ],
   "source": [
    "n.str.contains(\"JUND\", case=False).sum()"
   ]
  },
  {
   "cell_type": "code",
   "execution_count": 18,
   "metadata": {},
   "outputs": [
    {
     "data": {
      "text/plain": [
       "OrderedDict([('tf', 'JUND'),\n",
       "             ('model', 'FactorNet'),\n",
       "             ('filter_dnase', False),\n",
       "             ('auPR', 0.5232955257793761),\n",
       "             ('auROC', 0.9970828071711202),\n",
       "             ('accuracy', 0.9855886338998443),\n",
       "             ('n_positive', 4667),\n",
       "             ('n_negative', 1433434),\n",
       "             ('frac_positive', 0.0032452518981629245)])"
      ]
     },
     "execution_count": 18,
     "metadata": {},
     "output_type": "execute_result"
    }
   ],
   "source": [
    "eval_model(\"JUND\", \"FactorNet\", metrics)"
   ]
  },
  {
   "cell_type": "code",
   "execution_count": 19,
   "metadata": {},
   "outputs": [
    {
     "name": "stderr",
     "output_type": "stream",
     "text": [
      "  0%|          | 0/5 [00:00<?, ?it/s]\n",
      "  0%|          | 0/4 [00:00<?, ?it/s]\n",
      " 20%|██        | 1/5 [00:00<00:01,  2.44it/s]\n",
      "  0%|          | 0/4 [00:00<?, ?it/s]\n",
      "100%|██████████| 4/4 [00:00<00:00, 2340.90it/s]\n",
      "  0%|          | 0/4 [00:00<?, ?it/s]\n",
      "100%|██████████| 4/4 [00:00<00:00, 2100.57it/s]\n",
      "  0%|          | 0/4 [00:00<?, ?it/s]\n",
      "100%|██████████| 4/4 [00:00<00:00, 2337.31it/s]\n",
      "  0%|          | 0/4 [00:00<?, ?it/s]\n",
      "100%|██████████| 5/5 [00:00<00:00, 11.72it/s]\n"
     ]
    },
    {
     "name": "stdout",
     "output_type": "stream",
     "text": [
      "Exception occuredException occured<class 'OSError'>\n",
      "\n",
      "<class 'OSError'>\n",
      "\n"
     ]
    }
   ],
   "source": [
    "# Not boostrapped version\n",
    "df = pd.DataFrame(Parallel(n_jobs=32)(delayed(eval_model)(tf, model, metrics, filter_dnase=filter_dnase) \n",
    "                                      for model in tqdm(MODELS)\n",
    "                                      for tf in tqdm(TFS)\n",
    "                                      for filter_dnase in [True, False]))"
   ]
  },
  {
   "cell_type": "code",
   "execution_count": 20,
   "metadata": {},
   "outputs": [
    {
     "name": "stderr",
     "output_type": "stream",
     "text": [
      "/users/avsec/bin/anaconda3/lib/python3.6/site-packages/ipykernel/__main__.py:3: SettingWithCopyWarning: \n",
      "A value is trying to be set on a copy of a slice from a DataFrame\n",
      "\n",
      "See the caveats in the documentation: http://pandas.pydata.org/pandas-docs/stable/indexing.html#indexing-view-versus-copy\n",
      "  app.launch_new_instance()\n"
     ]
    }
   ],
   "source": [
    "# Make a nice column description\n",
    "df['dataset'] = \"Chromosome wide (chr8))\"\n",
    "df['dataset'][df.filter_dnase==True] = \"Only accessible regions (chr8))\""
   ]
  },
  {
   "cell_type": "code",
   "execution_count": 21,
   "metadata": {},
   "outputs": [
    {
     "data": {
      "image/png": "[encoded data removed]",
      "text/plain": [
       "<Figure size 845.875x360 with 2 Axes>"
      ]
     },
     "metadata": {},
     "output_type": "display_data"
    }
   ],
   "source": [
    "g = sns.factorplot(x=\"tf\", y=\"auPR\", hue=\"model\", data=df,\n",
    "                   col=\"dataset\",\n",
    "                   size=5, kind=\"bar\", palette=\"muted\")\n",
    "g.set_xlabels(\"Transcription Factor\");"
   ]
  },
  {
   "cell_type": "code",
   "execution_count": 22,
   "metadata": {},
   "outputs": [
    {
     "name": "stderr",
     "output_type": "stream",
     "text": [
      "/users/avsec/bin/anaconda3/lib/python3.6/site-packages/statsmodels/compat/pandas.py:56: FutureWarning: The pandas.core.datetools module is deprecated and will be removed in a future version. Please use the pandas.tseries module instead.\n",
      "  from pandas.core import datetools\n"
     ]
    }
   ],
   "source": [
    "from plotnine import *"
   ]
  },
  {
   "cell_type": "code",
   "execution_count": 85,
   "metadata": {},
   "outputs": [
    {
     "data": {
      "image/png": "[encoded data removed]",
      "text/plain": [
       "<Figure size 525.05x360 with 1 Axes>"
      ]
     },
     "metadata": {},
     "output_type": "display_data"
    }
   ],
   "source": [
    "sns.set_context(\"talk\")\n",
    "pallete = ['#8dd3c7','#fdb462','#bebada','#fb8072','#80b1d3']\n",
    "#pallete = ['#66c2a5','#fc8d62','#8da0cb','#e78ac3','#a6d854']\n",
    "#pallete = ['#7fc97f','#beaed4','#fdc086','#ffff99','#386cb0']\n",
    "df = df.rename(columns={\"model\": \"Model\"})\n",
    "g = sns.factorplot(x=\"tf\", y=\"auPR\", hue=\"Model\", data=df[~df.filter_dnase],\n",
    "                   size=5, kind=\"bar\", palette=pallete)\n",
    "#g.despine(left=True)\n",
    "#plt.legend(loc='upper right', bbox_to_anchor=(1.4,1))\n",
    "g.set_xlabels(\"Transcription Factor\");\n",
    "g.set_ylabels(\"auPRC\");"
   ]
  },
  {
   "cell_type": "code",
   "execution_count": 22,
   "metadata": {},
   "outputs": [
    {
     "data": {
      "image/png": "[encoded data removed]",
      "text/plain": [
       "<Figure size 845.875x360 with 2 Axes>"
      ]
     },
     "metadata": {},
     "output_type": "display_data"
    }
   ],
   "source": [
    "g = sns.factorplot(x=\"tf\", y=\"auPR\", hue=\"model\", data=df,\n",
    "                   col=\"dataset\",\n",
    "                   size=5, kind=\"bar\", palette=\"muted\")\n",
    "g.set_xlabels(\"Transcription Factor\");"
   ]
  },
  {
   "cell_type": "markdown",
   "metadata": {},
   "source": [
    "## Bootstrap the performance metric"
   ]
  },
  {
   "cell_type": "code",
   "execution_count": 51,
   "metadata": {},
   "outputs": [],
   "source": [
    "def flatten_list(l):\n",
    "    return [y for x in l for y in x]"
   ]
  },
  {
   "cell_type": "code",
   "execution_count": 52,
   "metadata": {},
   "outputs": [
    {
     "name": "stderr",
     "output_type": "stream",
     "text": [
      "  0%|          | 0/4 [00:00<?, ?it/s]\n",
      "  0%|          | 0/4 [00:00<?, ?it/s]\n",
      " 25%|██▌       | 1/4 [00:00<00:01,  2.63it/s]\n",
      "  0%|          | 0/4 [00:00<?, ?it/s]\n",
      "100%|██████████| 4/4 [00:00<00:00, 2240.85it/s]\n",
      "  0%|          | 0/4 [00:00<?, ?it/s]\n",
      "100%|██████████| 4/4 [00:00<00:00, 1901.96it/s]\n",
      "  0%|          | 0/4 [00:00<?, ?it/s]\n",
      "100%|██████████| 4/4 [00:00<00:00, 10.04it/s]\n"
     ]
    },
    {
     "name": "stdout",
     "output_type": "stream",
     "text": [
      "Exception occuredException occuredException occured\n",
      "\n",
      "\n",
      "Exception occured<class 'OSError'><class 'OSError'><class 'OSError'>\n",
      "\n",
      "\n",
      "\n",
      "<class 'OSError'>\n"
     ]
    }
   ],
   "source": [
    "# boostrapped version\n",
    "df = pd.DataFrame(flatten_list(Parallel(n_jobs=32)(delayed(eval_model)(tf, model, metrics, n_bootstrap=100, filter_dnase=filter_dnase) \n",
    "                                                   for model in tqdm(MODELS)\n",
    "                                                   for tf in tqdm(TFS)\n",
    "                                                   for filter_dnase in [True, False])))"
   ]
  },
  {
   "cell_type": "code",
   "execution_count": 67,
   "metadata": {},
   "outputs": [
    {
     "name": "stderr",
     "output_type": "stream",
     "text": [
      "/users/avsec/bin/anaconda3/lib/python3.6/site-packages/ipykernel/__main__.py:3: SettingWithCopyWarning: \n",
      "A value is trying to be set on a copy of a slice from a DataFrame\n",
      "\n",
      "See the caveats in the documentation: http://pandas.pydata.org/pandas-docs/stable/indexing.html#indexing-view-versus-copy\n",
      "  app.launch_new_instance()\n"
     ]
    }
   ],
   "source": [
    "# Make a nice column description\n",
    "df['dataset'] = \"Chromosome wide (chr8)\"\n",
    "df['dataset'][df.filter_dnase==True] = \"Only accessible regions (chr8)\""
   ]
  },
  {
   "cell_type": "code",
   "execution_count": 70,
   "metadata": {},
   "outputs": [
    {
     "data": {
      "image/png": "[encoded data removed]",
      "text/plain": [
       "<Figure size 845.875x360 with 2 Axes>"
      ]
     },
     "metadata": {},
     "output_type": "display_data"
    }
   ],
   "source": [
    "g = sns.factorplot(x=\"tf\", y=\"auPR\", hue=\"model\", data=df,\n",
    "                   col=\"dataset\",\n",
    "                   size=5, kind=\"bar\", palette=\"muted\")\n",
    "g.set_xlabels(\"Transcription Factor\");"
   ]
  },
  {
   "cell_type": "code",
   "execution_count": 66,
   "metadata": {},
   "outputs": [
    {
     "data": {
      "image/png": "[encoded data removed]",
      "text/plain": [
       "<Figure size 845.875x360 with 2 Axes>"
      ]
     },
     "metadata": {},
     "output_type": "display_data"
    }
   ],
   "source": [
    "g = sns.factorplot(x=\"tf\", y=\"auPR\", hue=\"model\", data=df,\n",
    "                   col=\"dataset\",\n",
    "                   size=5, kind=\"box\", palette=\"muted\")\n",
    "g.set_xlabels(\"Transcription Factor\");"
   ]
  },
  {
   "cell_type": "code",
   "execution_count": 58,
   "metadata": {},
   "outputs": [
    {
     "data": {
      "image/png": "[encoded data removed]",
      "text/plain": [
       "<Figure size 845.875x360 with 2 Axes>"
      ]
     },
     "metadata": {},
     "output_type": "display_data"
    }
   ],
   "source": [
    "g = sns.factorplot(x=\"tf\", y=\"auROC\", hue=\"model\", data=df,\n",
    "                   col=\"dataset\",\n",
    "                   size=5, kind=\"bar\", palette=\"muted\")\n",
    "g.set_xlabels(\"Transcription Factor\");"
   ]
  },
  {
   "cell_type": "code",
   "execution_count": 59,
   "metadata": {},
   "outputs": [
    {
     "data": {
      "image/png": "[encoded data removed]",
      "text/plain": [
       "<Figure size 845.875x360 with 2 Axes>"
      ]
     },
     "metadata": {},
     "output_type": "display_data"
    }
   ],
   "source": [
    "g = sns.factorplot(x=\"tf\", y=\"accuracy\", hue=\"model\", data=df,\n",
    "                   col=\"dataset\",\n",
    "                   size=5, kind=\"bar\", palette=\"muted\")\n",
    "g.set_xlabels(\"Transcription Factor\");"
   ]
  },
  {
   "cell_type": "markdown",
   "metadata": {},
   "source": [
    "## Add models trained from scratch"
   ]
  },
  {
   "cell_type": "code",
   "execution_count": 122,
   "metadata": {},
   "outputs": [
    {
     "data": {
      "text/html": [
       "<div>\n",
       "<style scoped>\n",
       "    .dataframe tbody tr th:only-of-type {\n",
       "        vertical-align: middle;\n",
       "    }\n",
       "\n",
       "    .dataframe tbody tr th {\n",
       "        vertical-align: top;\n",
       "    }\n",
       "\n",
       "    .dataframe thead th {\n",
       "        text-align: right;\n",
       "    }\n",
       "</style>\n",
       "<table border=\"1\" class=\"dataframe\">\n",
       "  <thead>\n",
       "    <tr style=\"text-align: right;\">\n",
       "      <th></th>\n",
       "      <th>tf</th>\n",
       "      <th>model</th>\n",
       "      <th>auPR</th>\n",
       "      <th>auROC</th>\n",
       "      <th>accuracy</th>\n",
       "    </tr>\n",
       "  </thead>\n",
       "  <tbody>\n",
       "    <tr>\n",
       "      <th>3</th>\n",
       "      <td>JUND</td>\n",
       "      <td>pwm_HOCOMOCO</td>\n",
       "      <td>0.039243</td>\n",
       "      <td>0.584844</td>\n",
       "      <td>0.562419</td>\n",
       "    </tr>\n",
       "    <tr>\n",
       "      <th>7</th>\n",
       "      <td>JUND</td>\n",
       "      <td>DeepBind</td>\n",
       "      <td>0.100298</td>\n",
       "      <td>0.718540</td>\n",
       "      <td>0.964003</td>\n",
       "    </tr>\n",
       "    <tr>\n",
       "      <th>11</th>\n",
       "      <td>JUND</td>\n",
       "      <td>DeepSEA</td>\n",
       "      <td>0.352839</td>\n",
       "      <td>0.981223</td>\n",
       "      <td>0.996890</td>\n",
       "    </tr>\n",
       "    <tr>\n",
       "      <th>15</th>\n",
       "      <td>JUND</td>\n",
       "      <td>FactorNet</td>\n",
       "      <td>0.043374</td>\n",
       "      <td>0.664716</td>\n",
       "      <td>0.996584</td>\n",
       "    </tr>\n",
       "  </tbody>\n",
       "</table>\n",
       "</div>"
      ],
      "text/plain": [
       "      tf         model      auPR     auROC  accuracy\n",
       "3   JUND  pwm_HOCOMOCO  0.039243  0.584844  0.562419\n",
       "7   JUND      DeepBind  0.100298  0.718540  0.964003\n",
       "11  JUND       DeepSEA  0.352839  0.981223  0.996890\n",
       "15  JUND     FactorNet  0.043374  0.664716  0.996584"
      ]
     },
     "execution_count": 122,
     "metadata": {},
     "output_type": "execute_result"
    }
   ],
   "source": [
    "df[df.tf==\"JUND\"]"
   ]
  },
  {
   "cell_type": "code",
   "execution_count": 6,
   "metadata": {},
   "outputs": [],
   "source": [
    "data=[\n",
    "    {'TF':\"JUND\",\"Model\":\"PWM (101bp)\",'AUPRC':.039},\n",
    "    {'TF':\"JUND\",\"Model\":\"DeepBind (101bp)\",'AUPRC':.1},\n",
    "    {'TF':\"JUND\",\"Model\":\"DeepSEA (1000bp)\",'AUPRC':.353},\n",
    "    {'TF':\"JUND\",\"Model\":\"Seq_only (1000bp)\",'AUPRC':.422},\n",
    "    {'TF':\"JUND\",\"Model\":\"Seq-DNAse (101bp)\",'AUPRC':.279},\n",
    "    {'TF':\"JUND\",\"Model\":\"Seq-DNAse (101bp)\",'AUPRC':.289},\n",
    "    {'TF':\"JUND\",\"Model\":\"Seq-DNAse (101bp)\",'AUPRC':.293},\n",
    "    {'TF':\"JUND\",\"Model\":\"Seq-DNAse (101bp)\",'AUPRC':.294},\n",
    "    {'TF':\"JUND\",\"Model\":\"Seq-DNAse (1000bp)\",'AUPRC':.600},\n",
    "]\n",
    "    \n",
    "df_JUND=pd.DataFrame(data)"
   ]
  },
  {
   "cell_type": "code",
   "execution_count": 7,
   "metadata": {},
   "outputs": [
    {
     "data": {
      "image/png": "[encoded data removed]",
      "text/plain": [
       "<Figure size 432x288 with 1 Axes>"
      ]
     },
     "metadata": {},
     "output_type": "display_data"
    }
   ],
   "source": [
    "ax=sns.barplot(x='TF',y='AUPRC',hue='Model', ci=None, data=df_JUND)\n",
    "ax.set_title('chr8 wide binding AUPRC for JUND-HepG2')\n",
    "fig=ax.get_figure()"
   ]
  },
  {
   "cell_type": "markdown",
   "metadata": {},
   "source": [
    "## Get the execution time"
   ]
  },
  {
   "cell_type": "code",
   "execution_count": null,
   "metadata": {},
   "outputs": [],
   "source": [
    "import `b\n"
   ]
  },
  {
   "cell_type": "code",
   "execution_count": 74,
   "metadata": {},
   "outputs": [],
   "source": [
    "from glob import glob"
   ]
  },
  {
   "cell_type": "code",
   "execution_count": 115,
   "metadata": {},
   "outputs": [],
   "source": [
    "# Runtime for batch_size=256\n",
    "df= pd.concat([pd.read_json(x) for x in glob(os.path.join(root_dir, \"data/processed/tfbinding/eval/runtimes/*/*.256.json\"))])"
   ]
  },
  {
   "cell_type": "code",
   "execution_count": 116,
   "metadata": {},
   "outputs": [
    {
     "data": {
      "text/plain": [
       "model\n",
       "DeepBind/D00776.005                 0.002374\n",
       "DeepSEA/predict                     0.093671\n",
       "FactorNet/JUND/meta_Unique35_DGF    0.118314\n",
       "pwm_HOCOMOCO/human/JUND             0.001245\n",
       "dtype: float64"
      ]
     },
     "execution_count": 116,
     "metadata": {},
     "output_type": "execute_result"
    }
   ],
   "source": [
    "df.groupby('model').apply(lambda group: group.times.iloc[1:].mean())"
   ]
  },
  {
   "cell_type": "code",
   "execution_count": 102,
   "metadata": {},
   "outputs": [
    {
     "data": {
      "text/html": [
       "<div>\n",
       "<style scoped>\n",
       "    .dataframe tbody tr th:only-of-type {\n",
       "        vertical-align: middle;\n",
       "    }\n",
       "\n",
       "    .dataframe tbody tr th {\n",
       "        vertical-align: top;\n",
       "    }\n",
       "\n",
       "    .dataframe thead th {\n",
       "        text-align: right;\n",
       "    }\n",
       "</style>\n",
       "<table border=\"1\" class=\"dataframe\">\n",
       "  <thead>\n",
       "    <tr style=\"text-align: right;\">\n",
       "      <th></th>\n",
       "      <th></th>\n",
       "      <th>model</th>\n",
       "      <th>model_group</th>\n",
       "      <th>num_runs</th>\n",
       "      <th>tf</th>\n",
       "      <th>times</th>\n",
       "    </tr>\n",
       "    <tr>\n",
       "      <th>model</th>\n",
       "      <th></th>\n",
       "      <th></th>\n",
       "      <th></th>\n",
       "      <th></th>\n",
       "      <th></th>\n",
       "      <th></th>\n",
       "    </tr>\n",
       "  </thead>\n",
       "  <tbody>\n",
       "    <tr>\n",
       "      <th rowspan=\"9\" valign=\"top\">DeepBind/D00776.005</th>\n",
       "      <th>1</th>\n",
       "      <td>DeepBind/D00776.005</td>\n",
       "      <td>DeepBind</td>\n",
       "      <td>10</td>\n",
       "      <td>JUND</td>\n",
       "      <td>0.002789</td>\n",
       "    </tr>\n",
       "    <tr>\n",
       "      <th>2</th>\n",
       "      <td>DeepBind/D00776.005</td>\n",
       "      <td>DeepBind</td>\n",
       "      <td>10</td>\n",
       "      <td>JUND</td>\n",
       "      <td>0.002411</td>\n",
       "    </tr>\n",
       "    <tr>\n",
       "      <th>3</th>\n",
       "      <td>DeepBind/D00776.005</td>\n",
       "      <td>DeepBind</td>\n",
       "      <td>10</td>\n",
       "      <td>JUND</td>\n",
       "      <td>0.002316</td>\n",
       "    </tr>\n",
       "    <tr>\n",
       "      <th>4</th>\n",
       "      <td>DeepBind/D00776.005</td>\n",
       "      <td>DeepBind</td>\n",
       "      <td>10</td>\n",
       "      <td>JUND</td>\n",
       "      <td>0.002383</td>\n",
       "    </tr>\n",
       "    <tr>\n",
       "      <th>5</th>\n",
       "      <td>DeepBind/D00776.005</td>\n",
       "      <td>DeepBind</td>\n",
       "      <td>10</td>\n",
       "      <td>JUND</td>\n",
       "      <td>0.002301</td>\n",
       "    </tr>\n",
       "    <tr>\n",
       "      <th>6</th>\n",
       "      <td>DeepBind/D00776.005</td>\n",
       "      <td>DeepBind</td>\n",
       "      <td>10</td>\n",
       "      <td>JUND</td>\n",
       "      <td>0.002330</td>\n",
       "    </tr>\n",
       "    <tr>\n",
       "      <th>7</th>\n",
       "      <td>DeepBind/D00776.005</td>\n",
       "      <td>DeepBind</td>\n",
       "      <td>10</td>\n",
       "      <td>JUND</td>\n",
       "      <td>0.002191</td>\n",
       "    </tr>\n",
       "    <tr>\n",
       "      <th>8</th>\n",
       "      <td>DeepBind/D00776.005</td>\n",
       "      <td>DeepBind</td>\n",
       "      <td>10</td>\n",
       "      <td>JUND</td>\n",
       "      <td>0.002334</td>\n",
       "    </tr>\n",
       "    <tr>\n",
       "      <th>9</th>\n",
       "      <td>DeepBind/D00776.005</td>\n",
       "      <td>DeepBind</td>\n",
       "      <td>10</td>\n",
       "      <td>JUND</td>\n",
       "      <td>0.002315</td>\n",
       "    </tr>\n",
       "    <tr>\n",
       "      <th rowspan=\"9\" valign=\"top\">DeepSEA/predict</th>\n",
       "      <th>1</th>\n",
       "      <td>DeepSEA/predict</td>\n",
       "      <td>DeepSEA</td>\n",
       "      <td>10</td>\n",
       "      <td>JUND</td>\n",
       "      <td>0.096747</td>\n",
       "    </tr>\n",
       "    <tr>\n",
       "      <th>2</th>\n",
       "      <td>DeepSEA/predict</td>\n",
       "      <td>DeepSEA</td>\n",
       "      <td>10</td>\n",
       "      <td>JUND</td>\n",
       "      <td>0.094936</td>\n",
       "    </tr>\n",
       "    <tr>\n",
       "      <th>3</th>\n",
       "      <td>DeepSEA/predict</td>\n",
       "      <td>DeepSEA</td>\n",
       "      <td>10</td>\n",
       "      <td>JUND</td>\n",
       "      <td>0.093097</td>\n",
       "    </tr>\n",
       "    <tr>\n",
       "      <th>4</th>\n",
       "      <td>DeepSEA/predict</td>\n",
       "      <td>DeepSEA</td>\n",
       "      <td>10</td>\n",
       "      <td>JUND</td>\n",
       "      <td>0.093293</td>\n",
       "    </tr>\n",
       "    <tr>\n",
       "      <th>5</th>\n",
       "      <td>DeepSEA/predict</td>\n",
       "      <td>DeepSEA</td>\n",
       "      <td>10</td>\n",
       "      <td>JUND</td>\n",
       "      <td>0.093484</td>\n",
       "    </tr>\n",
       "    <tr>\n",
       "      <th>6</th>\n",
       "      <td>DeepSEA/predict</td>\n",
       "      <td>DeepSEA</td>\n",
       "      <td>10</td>\n",
       "      <td>JUND</td>\n",
       "      <td>0.093145</td>\n",
       "    </tr>\n",
       "    <tr>\n",
       "      <th>7</th>\n",
       "      <td>DeepSEA/predict</td>\n",
       "      <td>DeepSEA</td>\n",
       "      <td>10</td>\n",
       "      <td>JUND</td>\n",
       "      <td>0.092723</td>\n",
       "    </tr>\n",
       "    <tr>\n",
       "      <th>8</th>\n",
       "      <td>DeepSEA/predict</td>\n",
       "      <td>DeepSEA</td>\n",
       "      <td>10</td>\n",
       "      <td>JUND</td>\n",
       "      <td>0.092726</td>\n",
       "    </tr>\n",
       "    <tr>\n",
       "      <th>9</th>\n",
       "      <td>DeepSEA/predict</td>\n",
       "      <td>DeepSEA</td>\n",
       "      <td>10</td>\n",
       "      <td>JUND</td>\n",
       "      <td>0.092890</td>\n",
       "    </tr>\n",
       "    <tr>\n",
       "      <th rowspan=\"9\" valign=\"top\">FactorNet/JUND/meta_Unique35_DGF</th>\n",
       "      <th>1</th>\n",
       "      <td>FactorNet/JUND/meta_Unique35_DGF</td>\n",
       "      <td>FactorNet</td>\n",
       "      <td>10</td>\n",
       "      <td>JUND</td>\n",
       "      <td>0.110748</td>\n",
       "    </tr>\n",
       "    <tr>\n",
       "      <th>2</th>\n",
       "      <td>FactorNet/JUND/meta_Unique35_DGF</td>\n",
       "      <td>FactorNet</td>\n",
       "      <td>10</td>\n",
       "      <td>JUND</td>\n",
       "      <td>0.116016</td>\n",
       "    </tr>\n",
       "    <tr>\n",
       "      <th>3</th>\n",
       "      <td>FactorNet/JUND/meta_Unique35_DGF</td>\n",
       "      <td>FactorNet</td>\n",
       "      <td>10</td>\n",
       "      <td>JUND</td>\n",
       "      <td>0.147074</td>\n",
       "    </tr>\n",
       "    <tr>\n",
       "      <th>4</th>\n",
       "      <td>FactorNet/JUND/meta_Unique35_DGF</td>\n",
       "      <td>FactorNet</td>\n",
       "      <td>10</td>\n",
       "      <td>JUND</td>\n",
       "      <td>0.119184</td>\n",
       "    </tr>\n",
       "    <tr>\n",
       "      <th>5</th>\n",
       "      <td>FactorNet/JUND/meta_Unique35_DGF</td>\n",
       "      <td>FactorNet</td>\n",
       "      <td>10</td>\n",
       "      <td>JUND</td>\n",
       "      <td>0.109257</td>\n",
       "    </tr>\n",
       "    <tr>\n",
       "      <th>6</th>\n",
       "      <td>FactorNet/JUND/meta_Unique35_DGF</td>\n",
       "      <td>FactorNet</td>\n",
       "      <td>10</td>\n",
       "      <td>JUND</td>\n",
       "      <td>0.125827</td>\n",
       "    </tr>\n",
       "    <tr>\n",
       "      <th>7</th>\n",
       "      <td>FactorNet/JUND/meta_Unique35_DGF</td>\n",
       "      <td>FactorNet</td>\n",
       "      <td>10</td>\n",
       "      <td>JUND</td>\n",
       "      <td>0.111856</td>\n",
       "    </tr>\n",
       "    <tr>\n",
       "      <th>8</th>\n",
       "      <td>FactorNet/JUND/meta_Unique35_DGF</td>\n",
       "      <td>FactorNet</td>\n",
       "      <td>10</td>\n",
       "      <td>JUND</td>\n",
       "      <td>0.116295</td>\n",
       "    </tr>\n",
       "    <tr>\n",
       "      <th>9</th>\n",
       "      <td>FactorNet/JUND/meta_Unique35_DGF</td>\n",
       "      <td>FactorNet</td>\n",
       "      <td>10</td>\n",
       "      <td>JUND</td>\n",
       "      <td>0.108567</td>\n",
       "    </tr>\n",
       "    <tr>\n",
       "      <th rowspan=\"9\" valign=\"top\">pwm_HOCOMOCO/human/JUND</th>\n",
       "      <th>1</th>\n",
       "      <td>pwm_HOCOMOCO/human/JUND</td>\n",
       "      <td>pwm_HOCOMOCO</td>\n",
       "      <td>10</td>\n",
       "      <td>JUND</td>\n",
       "      <td>0.001422</td>\n",
       "    </tr>\n",
       "    <tr>\n",
       "      <th>2</th>\n",
       "      <td>pwm_HOCOMOCO/human/JUND</td>\n",
       "      <td>pwm_HOCOMOCO</td>\n",
       "      <td>10</td>\n",
       "      <td>JUND</td>\n",
       "      <td>0.001340</td>\n",
       "    </tr>\n",
       "    <tr>\n",
       "      <th>3</th>\n",
       "      <td>pwm_HOCOMOCO/human/JUND</td>\n",
       "      <td>pwm_HOCOMOCO</td>\n",
       "      <td>10</td>\n",
       "      <td>JUND</td>\n",
       "      <td>0.001390</td>\n",
       "    </tr>\n",
       "    <tr>\n",
       "      <th>4</th>\n",
       "      <td>pwm_HOCOMOCO/human/JUND</td>\n",
       "      <td>pwm_HOCOMOCO</td>\n",
       "      <td>10</td>\n",
       "      <td>JUND</td>\n",
       "      <td>0.001224</td>\n",
       "    </tr>\n",
       "    <tr>\n",
       "      <th>5</th>\n",
       "      <td>pwm_HOCOMOCO/human/JUND</td>\n",
       "      <td>pwm_HOCOMOCO</td>\n",
       "      <td>10</td>\n",
       "      <td>JUND</td>\n",
       "      <td>0.001303</td>\n",
       "    </tr>\n",
       "    <tr>\n",
       "      <th>6</th>\n",
       "      <td>pwm_HOCOMOCO/human/JUND</td>\n",
       "      <td>pwm_HOCOMOCO</td>\n",
       "      <td>10</td>\n",
       "      <td>JUND</td>\n",
       "      <td>0.001242</td>\n",
       "    </tr>\n",
       "    <tr>\n",
       "      <th>7</th>\n",
       "      <td>pwm_HOCOMOCO/human/JUND</td>\n",
       "      <td>pwm_HOCOMOCO</td>\n",
       "      <td>10</td>\n",
       "      <td>JUND</td>\n",
       "      <td>0.001029</td>\n",
       "    </tr>\n",
       "    <tr>\n",
       "      <th>8</th>\n",
       "      <td>pwm_HOCOMOCO/human/JUND</td>\n",
       "      <td>pwm_HOCOMOCO</td>\n",
       "      <td>10</td>\n",
       "      <td>JUND</td>\n",
       "      <td>0.001141</td>\n",
       "    </tr>\n",
       "    <tr>\n",
       "      <th>9</th>\n",
       "      <td>pwm_HOCOMOCO/human/JUND</td>\n",
       "      <td>pwm_HOCOMOCO</td>\n",
       "      <td>10</td>\n",
       "      <td>JUND</td>\n",
       "      <td>0.001119</td>\n",
       "    </tr>\n",
       "  </tbody>\n",
       "</table>\n",
       "</div>"
      ],
      "text/plain": [
       "                                                               model  \\\n",
       "model                                                                  \n",
       "DeepBind/D00776.005              1               DeepBind/D00776.005   \n",
       "                                 2               DeepBind/D00776.005   \n",
       "                                 3               DeepBind/D00776.005   \n",
       "                                 4               DeepBind/D00776.005   \n",
       "                                 5               DeepBind/D00776.005   \n",
       "                                 6               DeepBind/D00776.005   \n",
       "                                 7               DeepBind/D00776.005   \n",
       "                                 8               DeepBind/D00776.005   \n",
       "                                 9               DeepBind/D00776.005   \n",
       "DeepSEA/predict                  1                   DeepSEA/predict   \n",
       "                                 2                   DeepSEA/predict   \n",
       "                                 3                   DeepSEA/predict   \n",
       "                                 4                   DeepSEA/predict   \n",
       "                                 5                   DeepSEA/predict   \n",
       "                                 6                   DeepSEA/predict   \n",
       "                                 7                   DeepSEA/predict   \n",
       "                                 8                   DeepSEA/predict   \n",
       "                                 9                   DeepSEA/predict   \n",
       "FactorNet/JUND/meta_Unique35_DGF 1  FactorNet/JUND/meta_Unique35_DGF   \n",
       "                                 2  FactorNet/JUND/meta_Unique35_DGF   \n",
       "                                 3  FactorNet/JUND/meta_Unique35_DGF   \n",
       "                                 4  FactorNet/JUND/meta_Unique35_DGF   \n",
       "                                 5  FactorNet/JUND/meta_Unique35_DGF   \n",
       "                                 6  FactorNet/JUND/meta_Unique35_DGF   \n",
       "                                 7  FactorNet/JUND/meta_Unique35_DGF   \n",
       "                                 8  FactorNet/JUND/meta_Unique35_DGF   \n",
       "                                 9  FactorNet/JUND/meta_Unique35_DGF   \n",
       "pwm_HOCOMOCO/human/JUND          1           pwm_HOCOMOCO/human/JUND   \n",
       "                                 2           pwm_HOCOMOCO/human/JUND   \n",
       "                                 3           pwm_HOCOMOCO/human/JUND   \n",
       "                                 4           pwm_HOCOMOCO/human/JUND   \n",
       "                                 5           pwm_HOCOMOCO/human/JUND   \n",
       "                                 6           pwm_HOCOMOCO/human/JUND   \n",
       "                                 7           pwm_HOCOMOCO/human/JUND   \n",
       "                                 8           pwm_HOCOMOCO/human/JUND   \n",
       "                                 9           pwm_HOCOMOCO/human/JUND   \n",
       "\n",
       "                                     model_group  num_runs    tf     times  \n",
       "model                                                                       \n",
       "DeepBind/D00776.005              1      DeepBind        10  JUND  0.002789  \n",
       "                                 2      DeepBind        10  JUND  0.002411  \n",
       "                                 3      DeepBind        10  JUND  0.002316  \n",
       "                                 4      DeepBind        10  JUND  0.002383  \n",
       "                                 5      DeepBind        10  JUND  0.002301  \n",
       "                                 6      DeepBind        10  JUND  0.002330  \n",
       "                                 7      DeepBind        10  JUND  0.002191  \n",
       "                                 8      DeepBind        10  JUND  0.002334  \n",
       "                                 9      DeepBind        10  JUND  0.002315  \n",
       "DeepSEA/predict                  1       DeepSEA        10  JUND  0.096747  \n",
       "                                 2       DeepSEA        10  JUND  0.094936  \n",
       "                                 3       DeepSEA        10  JUND  0.093097  \n",
       "                                 4       DeepSEA        10  JUND  0.093293  \n",
       "                                 5       DeepSEA        10  JUND  0.093484  \n",
       "                                 6       DeepSEA        10  JUND  0.093145  \n",
       "                                 7       DeepSEA        10  JUND  0.092723  \n",
       "                                 8       DeepSEA        10  JUND  0.092726  \n",
       "                                 9       DeepSEA        10  JUND  0.092890  \n",
       "FactorNet/JUND/meta_Unique35_DGF 1     FactorNet        10  JUND  0.110748  \n",
       "                                 2     FactorNet        10  JUND  0.116016  \n",
       "                                 3     FactorNet        10  JUND  0.147074  \n",
       "                                 4     FactorNet        10  JUND  0.119184  \n",
       "                                 5     FactorNet        10  JUND  0.109257  \n",
       "                                 6     FactorNet        10  JUND  0.125827  \n",
       "                                 7     FactorNet        10  JUND  0.111856  \n",
       "                                 8     FactorNet        10  JUND  0.116295  \n",
       "                                 9     FactorNet        10  JUND  0.108567  \n",
       "pwm_HOCOMOCO/human/JUND          1  pwm_HOCOMOCO        10  JUND  0.001422  \n",
       "                                 2  pwm_HOCOMOCO        10  JUND  0.001340  \n",
       "                                 3  pwm_HOCOMOCO        10  JUND  0.001390  \n",
       "                                 4  pwm_HOCOMOCO        10  JUND  0.001224  \n",
       "                                 5  pwm_HOCOMOCO        10  JUND  0.001303  \n",
       "                                 6  pwm_HOCOMOCO        10  JUND  0.001242  \n",
       "                                 7  pwm_HOCOMOCO        10  JUND  0.001029  \n",
       "                                 8  pwm_HOCOMOCO        10  JUND  0.001141  \n",
       "                                 9  pwm_HOCOMOCO        10  JUND  0.001119  "
      ]
     },
     "execution_count": 102,
     "metadata": {},
     "output_type": "execute_result"
    }
   ],
   "source": [
    "df"
   ]
  },
  {
   "cell_type": "code",
   "execution_count": 84,
   "metadata": {},
   "outputs": [
    {
     "data": {
      "text/plain": [
       "['../../../data/processed/tfbinding/eval/runtimes/JUND/pwm_HOCOMOCO.256.json',\n",
       " '../../../data/processed/tfbinding/eval/runtimes/JUND/DeepBind.256.json',\n",
       " '../../../data/processed/tfbinding/eval/runtimes/JUND/FactorNet.256.json',\n",
       " '../../../data/processed/tfbinding/eval/runtimes/JUND/DeepSEA.256.json']"
      ]
     },
     "execution_count": 84,
     "metadata": {},
     "output_type": "execute_result"
    }
   ],
   "source": [
    "glob(os.path.join(root_dir, \"data/processed/tfbinding/eval/runtimes/*/*.json\"))"
   ]
  },
  {
   "cell_type": "code",
   "execution_count": 76,
   "metadata": {},
   "outputs": [
    {
     "data": {
      "text/plain": [
       "[]"
      ]
     },
     "execution_count": 76,
     "metadata": {},
     "output_type": "execute_result"
    }
   ],
   "source": [
    "df"
   ]
  },
  {
   "cell_type": "markdown",
   "metadata": {},
   "source": [
    "## Compute summaries"
   ]
  },
  {
   "cell_type": "code",
   "execution_count": 145,
   "metadata": {},
   "outputs": [],
   "source": [
    "a = BedTool(os.path.join(root_dir, intervals_file))"
   ]
  },
  {
   "cell_type": "code",
   "execution_count": 148,
   "metadata": {},
   "outputs": [],
   "source": [
    "dfi = pd.DataFrame([{\"start\": i.start, \"end\": i.stop} for i in b])"
   ]
  },
  {
   "cell_type": "code",
   "execution_count": 98,
   "metadata": {},
   "outputs": [
    {
     "data": {
      "text/plain": [
       "(0, 1000)"
      ]
     },
     "execution_count": 98,
     "metadata": {},
     "output_type": "execute_result"
    },
    {
     "data": {
      "image/png": "[encoded data removed]",
      "text/plain": [
       "<Figure size 432x288 with 1 Axes>"
      ]
     },
     "metadata": {},
     "output_type": "display_data"
    }
   ],
   "source": [
    "plt.hist(dfi.end - dfi.start, bins=100);\n",
    "plt.xlim([0, 1000])"
   ]
  },
  {
   "cell_type": "code",
   "execution_count": 99,
   "metadata": {},
   "outputs": [],
   "source": [
    "interval = out[0]"
   ]
  },
  {
   "cell_type": "code",
   "execution_count": 100,
   "metadata": {},
   "outputs": [],
   "source": [
    "df_filtered = pd.read_csv(out.fn, sep=\"\\t\", header=None)\n",
    "df_filtered.columns = ['chr', 'start', 'end', 'cls']"
   ]
  },
  {
   "cell_type": "code",
   "execution_count": 101,
   "metadata": {},
   "outputs": [
    {
     "data": {
      "text/plain": [
       "0.04820564389416127"
      ]
     },
     "execution_count": 101,
     "metadata": {},
     "output_type": "execute_result"
    }
   ],
   "source": [
    "df_filtered.cls.mean()"
   ]
  },
  {
   "cell_type": "code",
   "execution_count": 102,
   "metadata": {},
   "outputs": [],
   "source": [
    "df_unfiltered = pd.read_csv(os.path.join(root_dir, intervals_file), sep=\"\\t\", header=None)\n",
    "df_unfiltered.columns = ['chr', 'start', 'end', 'cls']"
   ]
  },
  {
   "cell_type": "code",
   "execution_count": 103,
   "metadata": {},
   "outputs": [
    {
     "data": {
      "text/plain": [
       "0.0022487989369314116"
      ]
     },
     "execution_count": 103,
     "metadata": {},
     "output_type": "execute_result"
    }
   ],
   "source": [
    "df_unfiltered.cls.mean()"
   ]
  },
  {
   "cell_type": "code",
   "execution_count": 116,
   "metadata": {},
   "outputs": [],
   "source": [
    "df_filtered['filtered`'] = True"
   ]
  },
  {
   "cell_type": "code",
   "execution_count": 125,
   "metadata": {},
   "outputs": [
    {
     "data": {
      "text/plain": [
       "31822"
      ]
     },
     "execution_count": 125,
     "metadata": {},
     "output_type": "execute_result"
    }
   ],
   "source": [
    "np.sum(df_unfiltered.merge(df_filtered, how='left', on=list(df_unfiltered.columns)).filtered==True)"
   ]
  },
  {
   "cell_type": "code",
   "execution_count": 18,
   "metadata": {},
   "outputs": [
    {
     "data": {
      "text/plain": [
       "0.016739436242656114"
      ]
     },
     "execution_count": 18,
     "metadata": {},
     "output_type": "execute_result"
    }
   ],
   "source": [
    "# Only 1.6% is covered\n",
    "24073/1438101"
   ]
  }
 ],
 "metadata": {
  "kernelspec": {
   "display_name": "Python [default]",
   "language": "python",
   "name": "python3"
  },
  "language_info": {
   "codemirror_mode": {
    "name": "ipython",
    "version": 3
   },
   "file_extension": ".py",
   "mimetype": "text/x-python",
   "name": "python",
   "nbconvert_exporter": "python",
   "pygments_lexer": "ipython3",
   "version": "3.6.3"
  }
 },
 "nbformat": 4,
 "nbformat_minor": 2
}
