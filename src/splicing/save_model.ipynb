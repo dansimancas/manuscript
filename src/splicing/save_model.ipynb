{
 "cells": [
  {
   "cell_type": "markdown",
   "metadata": {},
   "source": [
    "## Dump the model to Kipoi"
   ]
  },
  {
   "cell_type": "code",
   "execution_count": 45,
   "metadata": {},
   "outputs": [],
   "source": [
    "import numpy as np\n",
    "import os\n",
    "import m_kipoi\n",
    "from copy import deepcopy\n",
    "import pandas as pd\n",
    "from plotnine import *\n",
    "import matplotlib.pyplot as plt\n",
    "from m_kipoi.utils import read_pkl\n",
    "from m_kipoi.config import get_data_dir\n",
    "from tqdm import tqdm\n",
    "ddir = get_data_dir()"
   ]
  },
  {
   "cell_type": "markdown",
   "metadata": {},
   "source": [
    "### Data\n",
    "\n",
    "#### ClinVar"
   ]
  },
  {
   "cell_type": "code",
   "execution_count": 3,
   "metadata": {},
   "outputs": [],
   "source": [
    "clinvar_file = f\"{ddir}/processed/splicing/clinvar/annotated_vcf/20180429.filtered/clinvar_ext_Xy.pkl\"\n",
    "X_clinvar, y_clinvar = read_pkl(clinvar_file)"
   ]
  },
  {
   "cell_type": "code",
   "execution_count": 4,
   "metadata": {},
   "outputs": [],
   "source": [
    "X_clinvar['early_stop'] = X_clinvar.early_stop.astype(bool)"
   ]
  },
  {
   "cell_type": "code",
   "execution_count": 5,
   "metadata": {},
   "outputs": [],
   "source": [
    "y_clinvar = y_clinvar[~X_clinvar['early_stop']]\n",
    "X_clinvar = X_clinvar[~X_clinvar['early_stop']]"
   ]
  },
  {
   "cell_type": "markdown",
   "metadata": {},
   "source": [
    "## Features"
   ]
  },
  {
   "cell_type": "code",
   "execution_count": 2,
   "metadata": {},
   "outputs": [],
   "source": [
    "# Use these Kipoi models\n",
    "models = [\"MaxEntScan/3prime\", \"MaxEntScan/5prime\", \"HAL\", \"labranchor\"]"
   ]
  },
  {
   "cell_type": "code",
   "execution_count": 25,
   "metadata": {},
   "outputs": [],
   "source": [
    "kipoi_features = ['MaxEntScan/3prime_alt',\n",
    "                  'MaxEntScan/3prime_ref',\n",
    "                  'MaxEntScan/3prime_isna',\n",
    "                  'MaxEntScan/5prime_alt',\n",
    "                  'MaxEntScan/5prime_ref',\n",
    "                  'MaxEntScan/5prime_isna',\n",
    "                  'HAL_ref',\n",
    "                  'HAL_alt',\n",
    "                  'HAL_isna',\n",
    "                  'labranchor_logit_alt',\n",
    "                  'labranchor_logit_ref',\n",
    "                  'labranchor_isna']"
   ]
  },
  {
   "cell_type": "code",
   "execution_count": 26,
   "metadata": {},
   "outputs": [],
   "source": [
    "conservation_features = ['phyloP46way_placental', 'phyloP46way_primate', 'CADD_raw', 'CADD_phred']"
   ]
  },
  {
   "cell_type": "code",
   "execution_count": 35,
   "metadata": {},
   "outputs": [],
   "source": [
    "clinvar_kipoi_features = kipoi_features + conservation_features"
   ]
  },
  {
   "cell_type": "markdown",
   "metadata": {},
   "source": [
    "## Modeling"
   ]
  },
  {
   "cell_type": "code",
   "execution_count": 36,
   "metadata": {},
   "outputs": [],
   "source": [
    "# Scikit-learn imports\n",
    "import sklearn\n",
    "from sklearn.base import BaseEstimator, TransformerMixin\n",
    "from sklearn.model_selection import cross_validate\n",
    "from sklearn.pipeline import Pipeline\n",
    "from sklearn.linear_model import LogisticRegression, LogisticRegressionCV\n",
    "from sklearn.ensemble import RandomForestClassifier\n",
    "from sklearn.preprocessing import LabelEncoder, LabelBinarizer\n",
    "from sklearn.ensemble import RandomForestClassifier\n",
    "from sklearn_pandas import DataFrameMapper\n",
    "from sklearn.externals import joblib"
   ]
  },
  {
   "cell_type": "code",
   "execution_count": 37,
   "metadata": {},
   "outputs": [],
   "source": [
    "class ZeroImputer(BaseEstimator, TransformerMixin):\n",
    "    def fit(self, X, y=None):\n",
    "        return self\n",
    "    def transform(self, X, y=None):\n",
    "        return pd.DataFrame(X).fillna(0).copy()\n",
    "\n",
    "def preproc(features):\n",
    "    \"\"\"Pre-processing pipeline\n",
    "    \"\"\"\n",
    "    return DataFrameMapper([\n",
    "            (features, [ZeroImputer()]),\n",
    "        ])"
   ]
  },
  {
   "cell_type": "code",
   "execution_count": 52,
   "metadata": {},
   "outputs": [
    {
     "data": {
      "text/plain": [
       "['/data/ouga/home/ag_gagneur/avsec/.kipoi/models/KipoiSplice/4/model_files/model.pkl']"
      ]
     },
     "execution_count": 52,
     "metadata": {},
     "output_type": "execute_result"
    }
   ],
   "source": [
    "X = preproc(kipoi_features).fit_transform(X_clinvar)\n",
    "model = Pipeline([('preproc', sklearn.preprocessing.StandardScaler()),\n",
    "                  ('model', LogisticRegression())])\n",
    "model.fit(X, y_clinvar)\n",
    "mdir = os.path.expanduser('~/.kipoi/models/KipoiSplice/4')\n",
    "os.makedirs(os.path.join(mdir, \"model_files\"), exist_ok=True)\n",
    "joblib.dump(model, f'{mdir}/model_files/model.pkl')"
   ]
  },
  {
   "cell_type": "code",
   "execution_count": 53,
   "metadata": {},
   "outputs": [
    {
     "data": {
      "text/plain": [
       "['/data/ouga/home/ag_gagneur/avsec/.kipoi/models/KipoiSplice/4cons/model_files/model.pkl']"
      ]
     },
     "execution_count": 53,
     "metadata": {},
     "output_type": "execute_result"
    }
   ],
   "source": [
    "X = preproc(clinvar_kipoi_features).fit_transform(X_clinvar)\n",
    "model = Pipeline([('preproc', sklearn.preprocessing.StandardScaler()),\n",
    "                  ('model', LogisticRegression())])\n",
    "model.fit(X, y_clinvar)\n",
    "mdir = os.path.expanduser('~/.kipoi/models/KipoiSplice/4cons')\n",
    "os.makedirs(os.path.join(mdir, \"model_files\"), exist_ok=True)\n",
    "joblib.dump(model, f'{mdir}/model_files/model.pkl')"
   ]
  },
  {
   "cell_type": "code",
   "execution_count": 133,
   "metadata": {},
   "outputs": [],
   "source": [
    "def evaluate(df, y, features, model, model_name):\n",
    "        ret = cross_validate(Pipeline([('preproc', preproc(features)), \n",
    "                                       ('model', model)]), \n",
    "                             df, y, scoring=['accuracy', 'roc_auc'], cv=10, n_jobs=10, return_train_score=True)\n",
    "        means = pd.DataFrame(ret).describe().loc['mean']\n",
    "        means.index = \"mean_\" + means.index\n",
    "        sds = pd.DataFrame(ret).describe().loc['std']\n",
    "        sds.index = \"std_\" + sds.index\n",
    "        return pd.DataFrame([{**dict(means), **dict(sds), \"model_name\": model_name}])"
   ]
  },
  {
   "cell_type": "code",
   "execution_count": 134,
   "metadata": {},
   "outputs": [],
   "source": [
    "def run_model_groups(df, y, model_groups,\n",
    "                     model=LogisticRegressionCV(penalty=\"l1\", solver='liblinear', scoring=\"roc_auc\", cv=3, n_jobs=1)):\n",
    "    res = []\n",
    "    use_features = []\n",
    "    for mg in tqdm(model_groups):\n",
    "        use_features += [f for f in df.columns if f.startswith(mg)]\n",
    "        res.append(evaluate(df, y, use_features, model, model_name=mg))\n",
    "    return pd.concat(res)"
   ]
  },
  {
   "cell_type": "code",
   "execution_count": 316,
   "metadata": {},
   "outputs": [
    {
     "name": "stderr",
     "output_type": "stream",
     "text": [
      "100%|██████████| 4/4 [00:05<00:00,  1.44s/it]\n"
     ]
    }
   ],
   "source": [
    "res_dbscsnv = run_model_groups(X_dbscsnv, y_dbscsnv, models, model=model)"
   ]
  },
  {
   "cell_type": "code",
   "execution_count": 317,
   "metadata": {},
   "outputs": [],
   "source": [
    "res_dbscsnv = res_dbscsnv.append(evaluate(X_dbscsnv, y_dbscsnv, kipoi_features + conservation_features, \n",
    "                                          model=model,\n",
    "                                          model_name=\"Kipoi4 w/ cons.\"))"
   ]
  }
 ],
 "metadata": {
  "kernelspec": {
   "display_name": "Python [conda env:kipoi-manuscript]",
   "language": "python",
   "name": "conda-env-kipoi-manuscript-py"
  },
  "language_info": {
   "codemirror_mode": {
    "name": "ipython",
    "version": 3
   },
   "file_extension": ".py",
   "mimetype": "text/x-python",
   "name": "python",
   "nbconvert_exporter": "python",
   "pygments_lexer": "ipython3",
   "version": "3.6.5"
  }
 },
 "nbformat": 4,
 "nbformat_minor": 2
}
