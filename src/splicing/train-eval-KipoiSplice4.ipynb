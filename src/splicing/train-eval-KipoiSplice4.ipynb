{
 "cells": [
  {
   "cell_type": "markdown",
   "metadata": {},
   "source": [
    "This notebook generates plots for Figure 5 of the Kipoi manuscript."
   ]
  },
  {
   "cell_type": "code",
   "execution_count": 273,
   "metadata": {},
   "outputs": [],
   "source": [
    "import numpy as np\n",
    "import m_kipoi\n",
    "from copy import deepcopy\n",
    "import os\n",
    "import pandas as pd\n",
    "from plotnine import *\n",
    "from m_kipoi.utils import read_pkl, write_pkl\n",
    "import matplotlib\n",
    "import matplotlib.pyplot as plt\n",
    "from m_kipoi.config import get_data_dir\n",
    "from tqdm import tqdm\n",
    "from m_kipoi.exp.splicing.data import get_dbscsnv_Xy, get_clinvar_ext_Xy\n",
    "\n",
    "matplotlib.rcParams['pdf.fonttype'] = 42\n",
    "matplotlib.rcParams['ps.fonttype'] = 42\n",
    "ddir = get_data_dir()"
   ]
  },
  {
   "cell_type": "code",
   "execution_count": 274,
   "metadata": {},
   "outputs": [],
   "source": [
    "# Use these Kipoi models\n",
    "models = [\"MaxEntScan/3prime\", \"MaxEntScan/5prime\", \"HAL\", \"labranchor\"]"
   ]
  },
  {
   "cell_type": "markdown",
   "metadata": {},
   "source": [
    "### Data\n",
    "\n",
    "#### ClinVar"
   ]
  },
  {
   "cell_type": "code",
   "execution_count": 275,
   "metadata": {},
   "outputs": [],
   "source": [
    "clinvar_file = f\"{ddir}/processed/splicing/clinvar/annotated_vcf/20180429.filtered/clinvar_ext_Xy.pkl\"\n",
    "if os.path.exists(clinvar_file):\n",
    "    X_clinvar, y_clinvar = read_pkl(clinvar_file)\n",
    "else:\n",
    "    X_clinvar, y_clinvar = get_clinvar_ext_Xy()\n",
    "    write_pkl((X_clinvar, y_clinvar), clinvar_file)"
   ]
  },
  {
   "cell_type": "code",
   "execution_count": 276,
   "metadata": {},
   "outputs": [
    {
     "name": "stdout",
     "output_type": "stream",
     "text": [
      "0.6218811626511189\n",
      "11663\n"
     ]
    }
   ],
   "source": [
    "print(y_clinvar.mean())\n",
    "print(len(y_clinvar))"
   ]
  },
  {
   "cell_type": "code",
   "execution_count": 277,
   "metadata": {},
   "outputs": [],
   "source": [
    "X_clinvar['early_stop'] = X_clinvar.early_stop.astype(bool)\n",
    "y_clinvar = y_clinvar[~X_clinvar['early_stop']]\n",
    "X_clinvar = X_clinvar[~X_clinvar['early_stop']]"
   ]
  },
  {
   "cell_type": "markdown",
   "metadata": {},
   "source": [
    "#### dbscSNV"
   ]
  },
  {
   "cell_type": "code",
   "execution_count": 278,
   "metadata": {},
   "outputs": [],
   "source": [
    "dbscsnv_file = f\"{ddir}/processed/splicing/dbscSNV/annotated_vcf/variants/dbscsnv_Xy.pkl\"\n",
    "if os.path.exists(dbscsnv_file):\n",
    "    X_dbscsnv, y_dbscsnv = read_pkl(dbscsnv_file)\n",
    "else:\n",
    "    X_dbscsnv, y_dbscsnv = get_dbscsnv_Xy()\n",
    "    write_pkl((X_dbscsnv, y_dbscsnv), dbscsnv_file)"
   ]
  },
  {
   "cell_type": "markdown",
   "metadata": {},
   "source": [
    "## Features"
   ]
  },
  {
   "cell_type": "code",
   "execution_count": 333,
   "metadata": {},
   "outputs": [],
   "source": [
    "kipoi_features = ['MaxEntScan/3prime_alt',\n",
    "                  'MaxEntScan/3prime_ref',\n",
    "                  'MaxEntScan/3prime_isna',\n",
    "                  'MaxEntScan/5prime_alt',\n",
    "                  'MaxEntScan/5prime_ref',\n",
    "                  'MaxEntScan/5prime_isna',\n",
    "                  'HAL_ref',\n",
    "                  'HAL_alt',\n",
    "                  'HAL_isna',\n",
    "                  'labranchor_logit_alt',\n",
    "                  'labranchor_logit_ref',\n",
    "                  'labranchor_isna']"
   ]
  },
  {
   "cell_type": "code",
   "execution_count": 281,
   "metadata": {},
   "outputs": [],
   "source": [
    "kipoi_na_features = [x for x in kipoi_features if x.endswith(\"_isna\")]"
   ]
  },
  {
   "cell_type": "code",
   "execution_count": 282,
   "metadata": {},
   "outputs": [],
   "source": [
    "dbscsnv_model_features = ['PWM_ref', 'PWM_alt',\n",
    "                          'MES_ref', 'MES_alt', \n",
    "                          'NNSplice_ref', 'NNSplice_alt', \n",
    "                          'HSF_ref', 'HSF_alt', \n",
    "                          'GeneSplicer_ref', 'GeneSplicer_alt', \n",
    "                          'GENSCAN_ref', 'GENSCAN_alt', \n",
    "                          'NetGene2_ref', 'NetGene2_alt', \n",
    "                          'SplicePredictor_ref', 'SplicePredictor_alt']"
   ]
  },
  {
   "cell_type": "code",
   "execution_count": 283,
   "metadata": {},
   "outputs": [],
   "source": [
    "conservation_features = ['phyloP46way_placental', 'phyloP46way_primate', 'CADD_raw', 'CADD_phred']"
   ]
  },
  {
   "cell_type": "code",
   "execution_count": 284,
   "metadata": {},
   "outputs": [],
   "source": [
    "dbscsnv_dbscsnv_feat = ['dbscSNV_rf_score', 'dbscSNV_rf_score_isna']"
   ]
  },
  {
   "cell_type": "code",
   "execution_count": 285,
   "metadata": {},
   "outputs": [],
   "source": [
    "clinvar_cons_feat = ['CADD_raw', 'CADD_phred', 'phyloP46way_placental', 'phyloP46way_primate']\n",
    "clinvar_dbscSNV_feat = ['dbscSNV_rf_score', 'dbscSNV_rf_score_isna']\n",
    "spidex_feat = ['dpsi_max_tissue', 'dpsi_zscore', 'dpsi_max_tissue_isna', 'dpsi_zscore_isna']"
   ]
  },
  {
   "cell_type": "code",
   "execution_count": 286,
   "metadata": {},
   "outputs": [],
   "source": [
    "dbscsnv_features = dbscsnv_model_features + conservation_features"
   ]
  },
  {
   "cell_type": "markdown",
   "metadata": {},
   "source": [
    "## Modeling"
   ]
  },
  {
   "cell_type": "code",
   "execution_count": 287,
   "metadata": {},
   "outputs": [],
   "source": [
    "# Scikit-learn imports\n",
    "import sklearn\n",
    "from sklearn.base import BaseEstimator, TransformerMixin\n",
    "from sklearn.model_selection import cross_validate, cross_val_predict\n",
    "from sklearn.pipeline import Pipeline\n",
    "from sklearn.linear_model import LogisticRegression, LogisticRegressionCV\n",
    "from sklearn.ensemble import RandomForestClassifier\n",
    "from sklearn.preprocessing import LabelEncoder, LabelBinarizer\n",
    "from sklearn.ensemble import RandomForestClassifier\n",
    "from sklearn_pandas import DataFrameMapper\n",
    "\n",
    "from m_kipoi.metrics import classification_metric, classification_metrics, BootstrapMetric, MetricsOrderedDict"
   ]
  },
  {
   "cell_type": "code",
   "execution_count": 288,
   "metadata": {},
   "outputs": [],
   "source": [
    "class ZeroImputer(BaseEstimator, TransformerMixin):\n",
    "    def fit(self, X, y=None):\n",
    "        return self\n",
    "    def transform(self, X, y=None):\n",
    "        return pd.DataFrame(X).fillna(0).copy()"
   ]
  },
  {
   "cell_type": "code",
   "execution_count": 289,
   "metadata": {},
   "outputs": [],
   "source": [
    "def preproc(features):\n",
    "    \"\"\"Pre-processing pipeline\n",
    "    \"\"\"\n",
    "    return DataFrameMapper([\n",
    "            (features, [ZeroImputer(), \n",
    "                        sklearn.preprocessing.StandardScaler(),\n",
    "                       ]),\n",
    "        ])"
   ]
  },
  {
   "cell_type": "code",
   "execution_count": 290,
   "metadata": {},
   "outputs": [],
   "source": [
    "model = LogisticRegression()"
   ]
  },
  {
   "cell_type": "code",
   "execution_count": 291,
   "metadata": {},
   "outputs": [],
   "source": [
    "np.random.seed(42)"
   ]
  },
  {
   "cell_type": "code",
   "execution_count": 292,
   "metadata": {},
   "outputs": [],
   "source": [
    "def evaluate(df, y, features, model, model_name):\n",
    "        perm = np.random.permutation(len(df))  # permute rows\n",
    "        ret = cross_validate(Pipeline([('preproc', preproc(features)), \n",
    "                                       ('model', model)]), \n",
    "                             df.iloc[perm], y[perm], scoring=['accuracy', 'roc_auc'], cv=10, n_jobs=10, return_train_score=True)\n",
    "        means = pd.DataFrame(ret).describe().loc['mean']\n",
    "        means.index = \"mean_\" + means.index\n",
    "        sds = pd.DataFrame(ret).describe().loc['std']\n",
    "        sds.index = \"std_\" + sds.index\n",
    "        return pd.DataFrame([{**dict(means), **dict(sds), \"model_name\": model_name}])"
   ]
  },
  {
   "cell_type": "code",
   "execution_count": 293,
   "metadata": {},
   "outputs": [],
   "source": [
    "def run_model_groups(df, y, model_groups,\n",
    "                     feature_subset=kipoi_features,\n",
    "                     model=LogisticRegressionCV(penalty=\"l1\", solver='liblinear', scoring=\"roc_auc\", cv=3, n_jobs=1)):\n",
    "    res = []\n",
    "    use_features = []\n",
    "    for mg in tqdm(model_groups):\n",
    "        use_features += [f for f in df.columns if f.startswith(mg) and f in feature_subset]\n",
    "        if mg=='labranchor':\n",
    "            mg = 'labranchor (KipoiSplice4)'\n",
    "        res.append(evaluate(df, y, use_features, model, model_name=mg))\n",
    "    return pd.concat(res)"
   ]
  },
  {
   "cell_type": "code",
   "execution_count": 294,
   "metadata": {},
   "outputs": [
    {
     "name": "stderr",
     "output_type": "stream",
     "text": [
      "\r",
      "  0%|          | 0/4 [00:00<?, ?it/s]\r",
      " 25%|██▌       | 1/4 [00:00<00:02,  1.15it/s]\r",
      " 50%|█████     | 2/4 [00:02<00:02,  1.02s/it]\r",
      " 75%|███████▌  | 3/4 [00:03<00:01,  1.12s/it]\r",
      "100%|██████████| 4/4 [00:04<00:00,  1.16s/it]\n"
     ]
    }
   ],
   "source": [
    "res_dbscsnv = run_model_groups(X_dbscsnv, y_dbscsnv, models, model=model)"
   ]
  },
  {
   "cell_type": "code",
   "execution_count": 295,
   "metadata": {},
   "outputs": [],
   "source": [
    "res_dbscsnv = res_dbscsnv.append(evaluate(X_dbscsnv, y_dbscsnv, kipoi_features + conservation_features, \n",
    "                                          model=model,\n",
    "                                          model_name=\"KipoiSplice4 w/ cons.\"))"
   ]
  },
  {
   "cell_type": "code",
   "execution_count": 296,
   "metadata": {},
   "outputs": [],
   "source": [
    "res_dbscsnv = res_dbscsnv.append(evaluate(X_dbscsnv, y_dbscsnv, dbscsnv_model_features + conservation_features,\n",
    "                                          model=model,\n",
    "                                          model_name=\"dbscSNV\"))"
   ]
  },
  {
   "cell_type": "code",
   "execution_count": 297,
   "metadata": {},
   "outputs": [],
   "source": [
    "res_dbscsnv = res_dbscsnv.append(evaluate(X_dbscsnv, y_dbscsnv, spidex_feat,\n",
    "                                          model=model,\n",
    "                                          model_name=\"SPIDEX\"))"
   ]
  },
  {
   "cell_type": "code",
   "execution_count": 298,
   "metadata": {},
   "outputs": [],
   "source": [
    "res_dbscsnv = res_dbscsnv.append(evaluate(X_dbscsnv, y_dbscsnv, spidex_feat + clinvar_cons_feat,\n",
    "                                          model=model,\n",
    "                                          model_name=\"SPIDEX w/ cons.\"))"
   ]
  },
  {
   "cell_type": "code",
   "execution_count": 299,
   "metadata": {},
   "outputs": [
    {
     "name": "stderr",
     "output_type": "stream",
     "text": [
      "\r",
      "  0%|          | 0/4 [00:00<?, ?it/s]\r",
      " 25%|██▌       | 1/4 [00:01<00:04,  1.36s/it]\r",
      " 50%|█████     | 2/4 [00:02<00:02,  1.34s/it]\r",
      " 75%|███████▌  | 3/4 [00:04<00:01,  1.36s/it]\r",
      "100%|██████████| 4/4 [00:05<00:00,  1.37s/it]\n"
     ]
    }
   ],
   "source": [
    "res_clinvar = run_model_groups(X_clinvar, y_clinvar, models, model=model)"
   ]
  },
  {
   "cell_type": "code",
   "execution_count": 300,
   "metadata": {},
   "outputs": [],
   "source": [
    "res_clinvar = res_clinvar.append(evaluate(X_clinvar, y_clinvar, kipoi_features + clinvar_cons_feat, \n",
    "                                          model=model,\n",
    "                                          model_name=\"KipoiSplice4 w/ cons.\"))"
   ]
  },
  {
   "cell_type": "code",
   "execution_count": 301,
   "metadata": {},
   "outputs": [],
   "source": [
    "res_clinvar = res_clinvar.append(evaluate(X_clinvar, y_clinvar, dbscsnv_dbscsnv_feat,\n",
    "                                          model=model,\n",
    "                                          model_name=\"dbscSNV\"))"
   ]
  },
  {
   "cell_type": "code",
   "execution_count": 302,
   "metadata": {},
   "outputs": [],
   "source": [
    "res_clinvar = res_clinvar.append(evaluate(X_clinvar, y_clinvar, spidex_feat,\n",
    "                                          model=model,\n",
    "                                          model_name=\"SPIDEX\"))"
   ]
  },
  {
   "cell_type": "code",
   "execution_count": 303,
   "metadata": {},
   "outputs": [],
   "source": [
    "res_clinvar = res_clinvar.append(evaluate(X_clinvar, y_clinvar, spidex_feat + clinvar_cons_feat,\n",
    "                                          model=model,\n",
    "                                          model_name=\"SPIDEX w/ cons.\"))"
   ]
  },
  {
   "cell_type": "code",
   "execution_count": 304,
   "metadata": {},
   "outputs": [
    {
     "data": {
      "text/plain": [
       "0.5888940737284181"
      ]
     },
     "execution_count": 304,
     "metadata": {},
     "output_type": "execute_result"
    }
   ],
   "source": [
    "y_clinvar.mean()"
   ]
  },
  {
   "cell_type": "code",
   "execution_count": 305,
   "metadata": {},
   "outputs": [
    {
     "data": {
      "text/plain": [
       "4405"
      ]
     },
     "execution_count": 305,
     "metadata": {},
     "output_type": "execute_result"
    }
   ],
   "source": [
    "np.sum(y_clinvar==0)"
   ]
  },
  {
   "cell_type": "code",
   "execution_count": 306,
   "metadata": {},
   "outputs": [
    {
     "data": {
      "text/plain": [
       "10715"
      ]
     },
     "execution_count": 306,
     "metadata": {},
     "output_type": "execute_result"
    }
   ],
   "source": [
    "y_clinvar.size"
   ]
  },
  {
   "cell_type": "code",
   "execution_count": 334,
   "metadata": {},
   "outputs": [
    {
     "data": {
      "text/html": [
       "<div>\n",
       "<style scoped>\n",
       "    .dataframe tbody tr th:only-of-type {\n",
       "        vertical-align: middle;\n",
       "    }\n",
       "\n",
       "    .dataframe tbody tr th {\n",
       "        vertical-align: top;\n",
       "    }\n",
       "\n",
       "    .dataframe thead th {\n",
       "        text-align: right;\n",
       "    }\n",
       "</style>\n",
       "<table border=\"1\" class=\"dataframe\">\n",
       "  <thead>\n",
       "    <tr style=\"text-align: right;\">\n",
       "      <th></th>\n",
       "      <th>MaxEntScan/3prime_alt</th>\n",
       "      <th>MaxEntScan/3prime_ref</th>\n",
       "      <th>MaxEntScan/3prime_isna</th>\n",
       "      <th>MaxEntScan/5prime_alt</th>\n",
       "      <th>MaxEntScan/5prime_ref</th>\n",
       "      <th>MaxEntScan/5prime_isna</th>\n",
       "      <th>HAL_ref</th>\n",
       "      <th>HAL_alt</th>\n",
       "      <th>HAL_isna</th>\n",
       "      <th>labranchor_logit_alt</th>\n",
       "      <th>labranchor_logit_ref</th>\n",
       "      <th>labranchor_isna</th>\n",
       "    </tr>\n",
       "  </thead>\n",
       "  <tbody>\n",
       "    <tr>\n",
       "      <th>count</th>\n",
       "      <td>4475.0000</td>\n",
       "      <td>4475.0000</td>\n",
       "      <td>10715.0000</td>\n",
       "      <td>3562.0000</td>\n",
       "      <td>3562.0000</td>\n",
       "      <td>10715.0000</td>\n",
       "      <td>6588.0000</td>\n",
       "      <td>6588.0000</td>\n",
       "      <td>10715.0000</td>\n",
       "      <td>4381.0000</td>\n",
       "      <td>4381.0000</td>\n",
       "      <td>10715.0000</td>\n",
       "    </tr>\n",
       "    <tr>\n",
       "      <th>mean</th>\n",
       "      <td>5.0437</td>\n",
       "      <td>8.3806</td>\n",
       "      <td>0.5824</td>\n",
       "      <td>2.0892</td>\n",
       "      <td>8.1955</td>\n",
       "      <td>0.6676</td>\n",
       "      <td>13.7271</td>\n",
       "      <td>9.9510</td>\n",
       "      <td>0.3852</td>\n",
       "      <td>-1.1731</td>\n",
       "      <td>-1.2202</td>\n",
       "      <td>0.5911</td>\n",
       "    </tr>\n",
       "    <tr>\n",
       "      <th>std</th>\n",
       "      <td>4.9767</td>\n",
       "      <td>2.9834</td>\n",
       "      <td>0.4932</td>\n",
       "      <td>4.0857</td>\n",
       "      <td>2.6756</td>\n",
       "      <td>0.4711</td>\n",
       "      <td>3.1775</td>\n",
       "      <td>5.4993</td>\n",
       "      <td>0.4867</td>\n",
       "      <td>1.7940</td>\n",
       "      <td>1.9516</td>\n",
       "      <td>0.4916</td>\n",
       "    </tr>\n",
       "    <tr>\n",
       "      <th>...</th>\n",
       "      <td>...</td>\n",
       "      <td>...</td>\n",
       "      <td>...</td>\n",
       "      <td>...</td>\n",
       "      <td>...</td>\n",
       "      <td>...</td>\n",
       "      <td>...</td>\n",
       "      <td>...</td>\n",
       "      <td>...</td>\n",
       "      <td>...</td>\n",
       "      <td>...</td>\n",
       "      <td>...</td>\n",
       "    </tr>\n",
       "    <tr>\n",
       "      <th>50%</th>\n",
       "      <td>6.1099</td>\n",
       "      <td>8.6842</td>\n",
       "      <td>1.0000</td>\n",
       "      <td>1.4502</td>\n",
       "      <td>8.6801</td>\n",
       "      <td>1.0000</td>\n",
       "      <td>13.7792</td>\n",
       "      <td>11.0239</td>\n",
       "      <td>0.0000</td>\n",
       "      <td>-1.1175</td>\n",
       "      <td>-1.1014</td>\n",
       "      <td>1.0000</td>\n",
       "    </tr>\n",
       "    <tr>\n",
       "      <th>75%</th>\n",
       "      <td>9.1340</td>\n",
       "      <td>10.2223</td>\n",
       "      <td>1.0000</td>\n",
       "      <td>4.1052</td>\n",
       "      <td>9.7877</td>\n",
       "      <td>1.0000</td>\n",
       "      <td>15.7671</td>\n",
       "      <td>14.3217</td>\n",
       "      <td>1.0000</td>\n",
       "      <td>-0.0416</td>\n",
       "      <td>0.0168</td>\n",
       "      <td>1.0000</td>\n",
       "    </tr>\n",
       "    <tr>\n",
       "      <th>max</th>\n",
       "      <td>14.7292</td>\n",
       "      <td>14.9268</td>\n",
       "      <td>1.0000</td>\n",
       "      <td>11.8065</td>\n",
       "      <td>11.8065</td>\n",
       "      <td>1.0000</td>\n",
       "      <td>26.8472</td>\n",
       "      <td>26.8472</td>\n",
       "      <td>1.0000</td>\n",
       "      <td>3.6642</td>\n",
       "      <td>3.7983</td>\n",
       "      <td>1.0000</td>\n",
       "    </tr>\n",
       "  </tbody>\n",
       "</table>\n",
       "<p>8 rows × 12 columns</p>\n",
       "</div>"
      ],
      "text/plain": [
       "       MaxEntScan/3prime_alt  MaxEntScan/3prime_ref  MaxEntScan/3prime_isna  \\\n",
       "count              4475.0000              4475.0000              10715.0000   \n",
       "mean                  5.0437                 8.3806                  0.5824   \n",
       "std                   4.9767                 2.9834                  0.4932   \n",
       "...                      ...                    ...                     ...   \n",
       "50%                   6.1099                 8.6842                  1.0000   \n",
       "75%                   9.1340                10.2223                  1.0000   \n",
       "max                  14.7292                14.9268                  1.0000   \n",
       "\n",
       "       MaxEntScan/5prime_alt  MaxEntScan/5prime_ref  MaxEntScan/5prime_isna    HAL_ref    HAL_alt  \\\n",
       "count              3562.0000              3562.0000              10715.0000  6588.0000  6588.0000   \n",
       "mean                  2.0892                 8.1955                  0.6676    13.7271     9.9510   \n",
       "std                   4.0857                 2.6756                  0.4711     3.1775     5.4993   \n",
       "...                      ...                    ...                     ...        ...        ...   \n",
       "50%                   1.4502                 8.6801                  1.0000    13.7792    11.0239   \n",
       "75%                   4.1052                 9.7877                  1.0000    15.7671    14.3217   \n",
       "max                  11.8065                11.8065                  1.0000    26.8472    26.8472   \n",
       "\n",
       "         HAL_isna  labranchor_logit_alt  labranchor_logit_ref  labranchor_isna  \n",
       "count  10715.0000             4381.0000             4381.0000       10715.0000  \n",
       "mean       0.3852               -1.1731               -1.2202           0.5911  \n",
       "std        0.4867                1.7940                1.9516           0.4916  \n",
       "...           ...                   ...                   ...              ...  \n",
       "50%        0.0000               -1.1175               -1.1014           1.0000  \n",
       "75%        1.0000               -0.0416                0.0168           1.0000  \n",
       "max        1.0000                3.6642                3.7983           1.0000  \n",
       "\n",
       "[8 rows x 12 columns]"
      ]
     },
     "execution_count": 334,
     "metadata": {},
     "output_type": "execute_result"
    }
   ],
   "source": [
    "X_clinvar[kipoi_features].describe()"
   ]
  },
  {
   "cell_type": "markdown",
   "metadata": {},
   "source": [
    "### Plot"
   ]
  },
  {
   "cell_type": "code",
   "execution_count": 308,
   "metadata": {},
   "outputs": [],
   "source": [
    "import matplotlib.pyplot as plt"
   ]
  },
  {
   "cell_type": "code",
   "execution_count": 309,
   "metadata": {},
   "outputs": [],
   "source": [
    "cm = plt.get_cmap('tab10')"
   ]
  },
  {
   "cell_type": "code",
   "execution_count": 310,
   "metadata": {},
   "outputs": [
    {
     "data": {
      "text/plain": [
       "['MaxEntScan/3prime',\n",
       " 'MaxEntScan/5prime',\n",
       " 'HAL',\n",
       " 'labranchor (KipoiSplice4)',\n",
       " 'KipoiSplice4 w/ cons.']"
      ]
     },
     "execution_count": 310,
     "metadata": {},
     "output_type": "execute_result"
    }
   ],
   "source": [
    "list(res_dbscsnv.model_name[:5])"
   ]
  },
  {
   "cell_type": "code",
   "execution_count": 311,
   "metadata": {},
   "outputs": [
    {
     "data": {
      "text/plain": [
       "['dbscSNV', 'SPIDEX', 'SPIDEX w/ cons.']"
      ]
     },
     "execution_count": 311,
     "metadata": {},
     "output_type": "execute_result"
    }
   ],
   "source": [
    "list(res_dbscsnv.model_name[5:])"
   ]
  },
  {
   "cell_type": "code",
   "execution_count": 312,
   "metadata": {},
   "outputs": [],
   "source": [
    "kipoi_model_names = [\n",
    "    'MaxEntScan/3prime',\n",
    "     '+MaxEntScan/5prime',\n",
    "     '+HAL',\n",
    "     '+labranchor',\n",
    "     '+conservation (KipoiSplice4)']"
   ]
  },
  {
   "cell_type": "code",
   "execution_count": 313,
   "metadata": {},
   "outputs": [
    {
     "data": {
      "text/html": [
       "<div>\n",
       "<style scoped>\n",
       "    .dataframe tbody tr th:only-of-type {\n",
       "        vertical-align: middle;\n",
       "    }\n",
       "\n",
       "    .dataframe tbody tr th {\n",
       "        vertical-align: top;\n",
       "    }\n",
       "\n",
       "    .dataframe thead th {\n",
       "        text-align: right;\n",
       "    }\n",
       "</style>\n",
       "<table border=\"1\" class=\"dataframe\">\n",
       "  <thead>\n",
       "    <tr style=\"text-align: right;\">\n",
       "      <th></th>\n",
       "      <th>mean_fit_time</th>\n",
       "      <th>mean_score_time</th>\n",
       "      <th>mean_test_accuracy</th>\n",
       "      <th>mean_test_roc_auc</th>\n",
       "      <th>mean_train_accuracy</th>\n",
       "      <th>mean_train_roc_auc</th>\n",
       "      <th>model_name</th>\n",
       "      <th>std_fit_time</th>\n",
       "      <th>std_score_time</th>\n",
       "      <th>std_test_accuracy</th>\n",
       "      <th>std_test_roc_auc</th>\n",
       "      <th>std_train_accuracy</th>\n",
       "      <th>std_train_roc_auc</th>\n",
       "    </tr>\n",
       "  </thead>\n",
       "  <tbody>\n",
       "    <tr>\n",
       "      <th>0</th>\n",
       "      <td>0.0383</td>\n",
       "      <td>0.0073</td>\n",
       "      <td>0.7458</td>\n",
       "      <td>0.7796</td>\n",
       "      <td>0.7458</td>\n",
       "      <td>0.7797</td>\n",
       "      <td>MaxEntScan/3prime</td>\n",
       "      <td>0.0170</td>\n",
       "      <td>0.0032</td>\n",
       "      <td>0.0113</td>\n",
       "      <td>0.0135</td>\n",
       "      <td>0.0013</td>\n",
       "      <td>0.0015</td>\n",
       "    </tr>\n",
       "    <tr>\n",
       "      <th>0</th>\n",
       "      <td>0.0505</td>\n",
       "      <td>0.0071</td>\n",
       "      <td>0.8327</td>\n",
       "      <td>0.8962</td>\n",
       "      <td>0.8329</td>\n",
       "      <td>0.8964</td>\n",
       "      <td>MaxEntScan/5prime</td>\n",
       "      <td>0.0181</td>\n",
       "      <td>0.0029</td>\n",
       "      <td>0.0099</td>\n",
       "      <td>0.0111</td>\n",
       "      <td>0.0013</td>\n",
       "      <td>0.0013</td>\n",
       "    </tr>\n",
       "    <tr>\n",
       "      <th>0</th>\n",
       "      <td>0.0703</td>\n",
       "      <td>0.0383</td>\n",
       "      <td>0.8332</td>\n",
       "      <td>0.9058</td>\n",
       "      <td>0.8334</td>\n",
       "      <td>0.9060</td>\n",
       "      <td>HAL</td>\n",
       "      <td>0.0316</td>\n",
       "      <td>0.0197</td>\n",
       "      <td>0.0137</td>\n",
       "      <td>0.0099</td>\n",
       "      <td>0.0017</td>\n",
       "      <td>0.0012</td>\n",
       "    </tr>\n",
       "    <tr>\n",
       "      <th>...</th>\n",
       "      <td>...</td>\n",
       "      <td>...</td>\n",
       "      <td>...</td>\n",
       "      <td>...</td>\n",
       "      <td>...</td>\n",
       "      <td>...</td>\n",
       "      <td>...</td>\n",
       "      <td>...</td>\n",
       "      <td>...</td>\n",
       "      <td>...</td>\n",
       "      <td>...</td>\n",
       "      <td>...</td>\n",
       "      <td>...</td>\n",
       "    </tr>\n",
       "    <tr>\n",
       "      <th>0</th>\n",
       "      <td>0.0476</td>\n",
       "      <td>0.0095</td>\n",
       "      <td>0.8579</td>\n",
       "      <td>0.9156</td>\n",
       "      <td>0.8580</td>\n",
       "      <td>0.9158</td>\n",
       "      <td>dbscSNV</td>\n",
       "      <td>0.0199</td>\n",
       "      <td>0.0075</td>\n",
       "      <td>0.0123</td>\n",
       "      <td>0.0099</td>\n",
       "      <td>0.0014</td>\n",
       "      <td>0.0011</td>\n",
       "    </tr>\n",
       "    <tr>\n",
       "      <th>0</th>\n",
       "      <td>0.0846</td>\n",
       "      <td>0.0191</td>\n",
       "      <td>0.7541</td>\n",
       "      <td>0.8205</td>\n",
       "      <td>0.7541</td>\n",
       "      <td>0.8208</td>\n",
       "      <td>SPIDEX</td>\n",
       "      <td>0.0347</td>\n",
       "      <td>0.0068</td>\n",
       "      <td>0.0107</td>\n",
       "      <td>0.0118</td>\n",
       "      <td>0.0016</td>\n",
       "      <td>0.0013</td>\n",
       "    </tr>\n",
       "    <tr>\n",
       "      <th>0</th>\n",
       "      <td>0.1600</td>\n",
       "      <td>0.0233</td>\n",
       "      <td>0.8537</td>\n",
       "      <td>0.9202</td>\n",
       "      <td>0.8531</td>\n",
       "      <td>0.9205</td>\n",
       "      <td>SPIDEX w/ cons.</td>\n",
       "      <td>0.0563</td>\n",
       "      <td>0.0087</td>\n",
       "      <td>0.0081</td>\n",
       "      <td>0.0068</td>\n",
       "      <td>0.0009</td>\n",
       "      <td>0.0008</td>\n",
       "    </tr>\n",
       "  </tbody>\n",
       "</table>\n",
       "<p>8 rows × 13 columns</p>\n",
       "</div>"
      ],
      "text/plain": [
       "    mean_fit_time  mean_score_time  mean_test_accuracy  mean_test_roc_auc  mean_train_accuracy  \\\n",
       "0          0.0383           0.0073              0.7458             0.7796               0.7458   \n",
       "0          0.0505           0.0071              0.8327             0.8962               0.8329   \n",
       "0          0.0703           0.0383              0.8332             0.9058               0.8334   \n",
       "..            ...              ...                 ...                ...                  ...   \n",
       "0          0.0476           0.0095              0.8579             0.9156               0.8580   \n",
       "0          0.0846           0.0191              0.7541             0.8205               0.7541   \n",
       "0          0.1600           0.0233              0.8537             0.9202               0.8531   \n",
       "\n",
       "    mean_train_roc_auc         model_name  std_fit_time  std_score_time  std_test_accuracy  \\\n",
       "0               0.7797  MaxEntScan/3prime        0.0170          0.0032             0.0113   \n",
       "0               0.8964  MaxEntScan/5prime        0.0181          0.0029             0.0099   \n",
       "0               0.9060                HAL        0.0316          0.0197             0.0137   \n",
       "..                 ...                ...           ...             ...                ...   \n",
       "0               0.9158            dbscSNV        0.0199          0.0075             0.0123   \n",
       "0               0.8208             SPIDEX        0.0347          0.0068             0.0107   \n",
       "0               0.9205    SPIDEX w/ cons.        0.0563          0.0087             0.0081   \n",
       "\n",
       "    std_test_roc_auc  std_train_accuracy  std_train_roc_auc  \n",
       "0             0.0135              0.0013             0.0015  \n",
       "0             0.0111              0.0013             0.0013  \n",
       "0             0.0099              0.0017             0.0012  \n",
       "..               ...                 ...                ...  \n",
       "0             0.0099              0.0014             0.0011  \n",
       "0             0.0118              0.0016             0.0013  \n",
       "0             0.0068              0.0009             0.0008  \n",
       "\n",
       "[8 rows x 13 columns]"
      ]
     },
     "execution_count": 313,
     "metadata": {},
     "output_type": "execute_result"
    }
   ],
   "source": [
    "res_clinvar"
   ]
  },
  {
   "cell_type": "code",
   "execution_count": 314,
   "metadata": {},
   "outputs": [],
   "source": [
    "other_model_names = ['dbscSNV', 'SPIDEX', 'SPIDEX+conservation']"
   ]
  },
  {
   "cell_type": "code",
   "execution_count": 315,
   "metadata": {},
   "outputs": [],
   "source": [
    "cv_other_model_names = list(res_clinvar.model_name[5:])"
   ]
  },
  {
   "cell_type": "code",
   "execution_count": 316,
   "metadata": {},
   "outputs": [
    {
     "data": {
      "image/png": "[encoded data removed]",
      "text/plain": [
       "<Figure size 864x288 with 2 Axes>"
      ]
     },
     "execution_count": 316,
     "metadata": {},
     "output_type": "execute_result"
    }
   ],
   "source": [
    "fig=plt.figure(figsize=(12, 4))\n",
    "fig.subplots_adjust(bottom=0.3, left=0.1)\n",
    "plt.subplot(121)\n",
    "col1 = cm.colors[0]\n",
    "col2 = cm.colors[1]\n",
    "tilt = 30\n",
    "plt.errorbar(kipoi_model_names, res_dbscsnv.mean_test_roc_auc[:5], yerr=res_dbscsnv.std_test_roc_auc[:5], fmt='o--', color=col1)\n",
    "#plt.errorbar(res_dbscsnv.model_name[4:5], res_dbscsnv.mean_test_roc_auc[4:5], yerr=res_dbscsnv.std_test_roc_auc[4:5], fmt='o', color=col1)\n",
    "plt.errorbar(other_model_names, res_dbscsnv.mean_test_roc_auc[5:], yerr=res_dbscsnv.std_test_roc_auc[5:], fmt='o', color=col2)\n",
    "plt.ylabel(\"auROC\")\n",
    "#plt.errorbar([\"asd\"], [.9], yerr=[.1], fmt='o--')\n",
    "plt.title(\"dbscSNV\")\n",
    "plt.ylim((None, 1))\n",
    "plt.grid(alpha=0.4)\n",
    "plt.xticks(rotation=tilt, horizontalalignment=\"right\");\n",
    "plt.subplot(122)\n",
    "plt.errorbar(kipoi_model_names, res_clinvar.mean_test_roc_auc[:5], yerr=res_clinvar.std_test_roc_auc[:5], fmt='p--', color=col1)\n",
    "#plt.errorbar(res_clinvar.model_name[4:5], res_clinvar.mean_test_roc_auc[4:5], yerr=res_clinvar.std_test_roc_auc[4:5], fmt='o', color=col1)\n",
    "plt.errorbar(other_model_names, res_clinvar.mean_test_roc_auc[5:], yerr=res_clinvar.std_test_roc_auc[5:], fmt='o', color=col2)\n",
    "plt.title(\"ClinVar\")\n",
    "plt.grid(alpha=0.4)\n",
    "plt.ylim((None, 1))\n",
    "plt.ylabel(\"auROC\")\n",
    "plt.xticks(rotation=tilt, horizontalalignment=\"right\");\n",
    "#plt.tight_layout(h_pad=0);\n",
    "plt.savefig('plots/fig5c_clinvar_20180429.png', dpi=600)\n",
    "plt.savefig('plots/fig5c_clinvar_20180429.pdf', dpi=600)\n",
    "plt.close(fig)    # close the figure\n",
    "fig"
   ]
  },
  {
   "cell_type": "code",
   "execution_count": 317,
   "metadata": {},
   "outputs": [],
   "source": [
    "isna_clinvar = X_clinvar.filter(like=\"_isna\", axis=1)"
   ]
  },
  {
   "cell_type": "code",
   "execution_count": 318,
   "metadata": {},
   "outputs": [
    {
     "name": "stderr",
     "output_type": "stream",
     "text": [
      "/opt/modules/i12g/anaconda/3-5.0.1/envs/kipoi-manuscript/lib/python3.6/site-packages/ipykernel/__main__.py:1: SettingWithCopyWarning: \n",
      "A value is trying to be set on a copy of a slice from a DataFrame.\n",
      "Try using .loc[row_indexer,col_indexer] = value instead\n",
      "\n",
      "See the caveats in the documentation: http://pandas.pydata.org/pandas-docs/stable/indexing.html#indexing-view-versus-copy\n",
      "  if __name__ == '__main__':\n"
     ]
    }
   ],
   "source": [
    "isna_clinvar['KipoiSplice4_isna'] = isna_clinvar[pd.Series(models)+\"_isna\"].min(axis=1)\n",
    "isna_clinvar = isna_clinvar.mean().sort_index().reset_index().rename(columns={\"index\": \"Method\", 0: \"NA_frac\"})\n",
    "isna_clinvar['Dataset'] = \"ClinVar\"\n",
    "isna_clinvar['Method'] = isna_clinvar['Method'].str.replace(\"_isna\", \"\")"
   ]
  },
  {
   "cell_type": "code",
   "execution_count": 319,
   "metadata": {},
   "outputs": [],
   "source": [
    "isna_dbscsnv = X_dbscsnv.iloc[:,~X_dbscsnv.columns.str.contains(\"rbp_eclip\")].filter(like=\"_isna\", axis=1)\n",
    "isna_dbscsnv['KipoiSplice4_isna'] = isna_dbscsnv[pd.Series(models)+\"_isna\"].min(axis=1)\n",
    "isna_dbscsnv = isna_dbscsnv.mean().sort_index().reset_index().rename(columns={\"index\": \"Method\", 0: \"NA_frac\"})\n",
    "isna_dbscsnv['Dataset'] = \"dbscSNV\"\n",
    "isna_dbscsnv['Method'] = isna_dbscsnv['Method'].str.replace(\"_isna\", \"\")"
   ]
  },
  {
   "cell_type": "code",
   "execution_count": 320,
   "metadata": {},
   "outputs": [],
   "source": [
    "df_isna = pd.concat([isna_clinvar, isna_dbscsnv])"
   ]
  },
  {
   "cell_type": "code",
   "execution_count": 321,
   "metadata": {},
   "outputs": [],
   "source": [
    "df_isna = df_isna[~df_isna.Method.str.contains(\"ada_score\")]\n",
    "df_isna = df_isna[~df_isna.Method.str.contains(\"max_tissue\")]"
   ]
  },
  {
   "cell_type": "code",
   "execution_count": 322,
   "metadata": {},
   "outputs": [],
   "source": [
    "df_isna['Method'] = df_isna.Method.replace({\"dbscSNV_rf_score\": \"dbscSNV\", 'dpsi_zscore': 'SPIDEX'})"
   ]
  },
  {
   "cell_type": "code",
   "execution_count": 323,
   "metadata": {},
   "outputs": [],
   "source": [
    "methods = df_isna.Method.unique()[::-1].tolist()\n",
    "datasets = df_isna.Dataset.unique()[::-1].tolist()"
   ]
  },
  {
   "cell_type": "code",
   "execution_count": 324,
   "metadata": {},
   "outputs": [],
   "source": [
    "methods =['MaxEntScan/3prime',\n",
    "          'MaxEntScan/5prime',\n",
    "          'HAL',\n",
    "          'labranchor',\n",
    "          'Kipoi4',\n",
    "          'dbscSNV',\n",
    "          'SPIDEX'][::-1]"
   ]
  },
  {
   "cell_type": "code",
   "execution_count": 325,
   "metadata": {},
   "outputs": [],
   "source": [
    "import plotnine"
   ]
  },
  {
   "cell_type": "code",
   "execution_count": 326,
   "metadata": {},
   "outputs": [
    {
     "data": {
      "text/html": [
       "<div>\n",
       "<style scoped>\n",
       "    .dataframe tbody tr th:only-of-type {\n",
       "        vertical-align: middle;\n",
       "    }\n",
       "\n",
       "    .dataframe tbody tr th {\n",
       "        vertical-align: top;\n",
       "    }\n",
       "\n",
       "    .dataframe thead th {\n",
       "        text-align: right;\n",
       "    }\n",
       "</style>\n",
       "<table border=\"1\" class=\"dataframe\">\n",
       "  <thead>\n",
       "    <tr style=\"text-align: right;\">\n",
       "      <th></th>\n",
       "      <th>Method</th>\n",
       "      <th>NA_frac</th>\n",
       "      <th>Dataset</th>\n",
       "    </tr>\n",
       "  </thead>\n",
       "  <tbody>\n",
       "    <tr>\n",
       "      <th>0</th>\n",
       "      <td>HAL</td>\n",
       "      <td>0.3852</td>\n",
       "      <td>ClinVar</td>\n",
       "    </tr>\n",
       "    <tr>\n",
       "      <th>1</th>\n",
       "      <td>KipoiSplice4</td>\n",
       "      <td>0.0000</td>\n",
       "      <td>ClinVar</td>\n",
       "    </tr>\n",
       "    <tr>\n",
       "      <th>2</th>\n",
       "      <td>MaxEntScan/3prime</td>\n",
       "      <td>0.5824</td>\n",
       "      <td>ClinVar</td>\n",
       "    </tr>\n",
       "    <tr>\n",
       "      <th>...</th>\n",
       "      <td>...</td>\n",
       "      <td>...</td>\n",
       "      <td>...</td>\n",
       "    </tr>\n",
       "    <tr>\n",
       "      <th>5</th>\n",
       "      <td>dbscSNV</td>\n",
       "      <td>0.0321</td>\n",
       "      <td>dbscSNV</td>\n",
       "    </tr>\n",
       "    <tr>\n",
       "      <th>7</th>\n",
       "      <td>SPIDEX</td>\n",
       "      <td>0.0727</td>\n",
       "      <td>dbscSNV</td>\n",
       "    </tr>\n",
       "    <tr>\n",
       "      <th>8</th>\n",
       "      <td>labranchor</td>\n",
       "      <td>0.6346</td>\n",
       "      <td>dbscSNV</td>\n",
       "    </tr>\n",
       "  </tbody>\n",
       "</table>\n",
       "<p>14 rows × 3 columns</p>\n",
       "</div>"
      ],
      "text/plain": [
       "               Method  NA_frac  Dataset\n",
       "0                 HAL   0.3852  ClinVar\n",
       "1        KipoiSplice4   0.0000  ClinVar\n",
       "2   MaxEntScan/3prime   0.5824  ClinVar\n",
       "..                ...      ...      ...\n",
       "5             dbscSNV   0.0321  dbscSNV\n",
       "7              SPIDEX   0.0727  dbscSNV\n",
       "8          labranchor   0.6346  dbscSNV\n",
       "\n",
       "[14 rows x 3 columns]"
      ]
     },
     "execution_count": 326,
     "metadata": {},
     "output_type": "execute_result"
    }
   ],
   "source": [
    "df_isna"
   ]
  },
  {
   "cell_type": "code",
   "execution_count": 327,
   "metadata": {},
   "outputs": [
    {
     "data": {
      "text/plain": [
       "['SPIDEX',\n",
       " 'dbscSNV',\n",
       " 'Kipoi4',\n",
       " 'labranchor',\n",
       " 'HAL',\n",
       " 'MaxEntScan/5prime',\n",
       " 'MaxEntScan/3prime']"
      ]
     },
     "execution_count": 327,
     "metadata": {},
     "output_type": "execute_result"
    }
   ],
   "source": [
    "methods"
   ]
  },
  {
   "cell_type": "code",
   "execution_count": 328,
   "metadata": {},
   "outputs": [],
   "source": [
    "df_isna['Method'] = pd.Categorical(df_isna.Method, methods)"
   ]
  },
  {
   "cell_type": "code",
   "execution_count": 329,
   "metadata": {},
   "outputs": [],
   "source": [
    "df_isna['Dataset'] = pd.Categorical(df_isna.Dataset, datasets)"
   ]
  },
  {
   "cell_type": "code",
   "execution_count": 330,
   "metadata": {},
   "outputs": [],
   "source": [
    "df_isna = df_isna.reset_index()"
   ]
  },
  {
   "cell_type": "code",
   "execution_count": 331,
   "metadata": {},
   "outputs": [
    {
     "name": "stderr",
     "output_type": "stream",
     "text": [
      "/opt/modules/i12g/anaconda/3-5.0.1/envs/kipoi-manuscript/lib/python3.6/site-packages/plotnine/utils.py:281: FutureWarning: Method .as_matrix will be removed in a future version. Use .values instead.\n",
      "  ndistinct = ids.apply(len_unique, axis=0).as_matrix()\n",
      "/opt/modules/i12g/anaconda/3-5.0.1/envs/kipoi-manuscript/lib/python3.6/site-packages/pandas/core/generic.py:4384: FutureWarning: Attribute 'is_copy' is deprecated and will be removed in a future version.\n",
      "  object.__getattribute__(self, name)\n",
      "/opt/modules/i12g/anaconda/3-5.0.1/envs/kipoi-manuscript/lib/python3.6/site-packages/pandas/core/generic.py:4385: FutureWarning: Attribute 'is_copy' is deprecated and will be removed in a future version.\n",
      "  return object.__setattr__(self, name, value)\n",
      "/opt/modules/i12g/anaconda/3-5.0.1/envs/kipoi-manuscript/lib/python3.6/site-packages/plotnine/positions/position.py:188: FutureWarning: Method .as_matrix will be removed in a future version. Use .values instead.\n",
      "  intervals = data[xminmax].drop_duplicates().as_matrix().flatten()\n"
     ]
    },
    {
     "data": {
      "image/png": "[encoded data removed]",
      "text/plain": [
       "<Figure size 200x200 with 1 Axes>"
      ]
     },
     "metadata": {},
     "output_type": "display_data"
    },
    {
     "data": {
      "text/plain": [
       "<ggplot: (8778158144509)>"
      ]
     },
     "execution_count": 331,
     "metadata": {},
     "output_type": "execute_result"
    }
   ],
   "source": [
    "plotnine.options.figure_size = (2,2)\n",
    "gplt = ggplot(aes(x=\"Method\", y=\"NA_frac\", fill=\"Dataset\"), df_isna) + \\\n",
    "    geom_bar(stat='identity', position='dodge') + \\\n",
    "    ylab(\"NA fraction\") + \\\n",
    "    theme_minimal() + \\\n",
    "    theme(legend_box_margin=0,\n",
    "          legend_direction='horizontal', \n",
    "          legend_position='top') + \\\n",
    "    coord_flip()  + \\\n",
    "        scale_fill_brewer(\"qual\", 3)\n",
    "gplt"
   ]
  },
  {
   "cell_type": "code",
   "execution_count": 332,
   "metadata": {},
   "outputs": [
    {
     "name": "stderr",
     "output_type": "stream",
     "text": [
      "/opt/modules/i12g/anaconda/3-5.0.1/envs/kipoi-manuscript/lib/python3.6/site-packages/plotnine/ggplot.py:688: UserWarning: Saving 2 x 2 in image.\n",
      "  from_inches(height, units), units))\n",
      "/opt/modules/i12g/anaconda/3-5.0.1/envs/kipoi-manuscript/lib/python3.6/site-packages/plotnine/ggplot.py:689: UserWarning: Filename: plots/fig5b_clinvar_20180429.pdf\n",
      "  warn('Filename: {}'.format(filename))\n",
      "/opt/modules/i12g/anaconda/3-5.0.1/envs/kipoi-manuscript/lib/python3.6/site-packages/plotnine/utils.py:281: FutureWarning: Method .as_matrix will be removed in a future version. Use .values instead.\n",
      "  ndistinct = ids.apply(len_unique, axis=0).as_matrix()\n",
      "/opt/modules/i12g/anaconda/3-5.0.1/envs/kipoi-manuscript/lib/python3.6/site-packages/pandas/core/generic.py:4384: FutureWarning: Attribute 'is_copy' is deprecated and will be removed in a future version.\n",
      "  object.__getattribute__(self, name)\n",
      "/opt/modules/i12g/anaconda/3-5.0.1/envs/kipoi-manuscript/lib/python3.6/site-packages/pandas/core/generic.py:4385: FutureWarning: Attribute 'is_copy' is deprecated and will be removed in a future version.\n",
      "  return object.__setattr__(self, name, value)\n",
      "/opt/modules/i12g/anaconda/3-5.0.1/envs/kipoi-manuscript/lib/python3.6/site-packages/plotnine/positions/position.py:188: FutureWarning: Method .as_matrix will be removed in a future version. Use .values instead.\n",
      "  intervals = data[xminmax].drop_duplicates().as_matrix().flatten()\n",
      "/opt/modules/i12g/anaconda/3-5.0.1/envs/kipoi-manuscript/lib/python3.6/site-packages/plotnine/ggplot.py:688: UserWarning: Saving 2 x 2 in image.\n",
      "  from_inches(height, units), units))\n",
      "/opt/modules/i12g/anaconda/3-5.0.1/envs/kipoi-manuscript/lib/python3.6/site-packages/plotnine/ggplot.py:689: UserWarning: Filename: plots/fig5b_clinvar_20180429.png\n",
      "  warn('Filename: {}'.format(filename))\n"
     ]
    }
   ],
   "source": [
    "gplt.save(\"plots/fig5b_clinvar_20180429.pdf\", dpi=600)\n",
    "gplt.save(\"plots/fig5b_clinvar_20180429.png\", dpi=600)"
   ]
  }
 ],
 "metadata": {
  "kernelspec": {
   "display_name": "Python [conda env:kipoi-manuscript]",
   "language": "python",
   "name": "conda-env-kipoi-manuscript-py"
  },
  "language_info": {
   "codemirror_mode": {
    "name": "ipython",
    "version": 3
   },
   "file_extension": ".py",
   "mimetype": "text/x-python",
   "name": "python",
   "nbconvert_exporter": "python",
   "pygments_lexer": "ipython3",
   "version": "3.6.5"
  }
 },
 "nbformat": 4,
 "nbformat_minor": 2
}
