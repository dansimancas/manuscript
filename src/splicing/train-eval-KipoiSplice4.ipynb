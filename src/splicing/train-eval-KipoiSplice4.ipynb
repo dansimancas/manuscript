{
 "cells": [
  {
   "cell_type": "markdown",
   "metadata": {},
   "source": [
    "## Links\n",
    "\n",
    "- [dbscSNV paper](https://www.ncbi.nlm.nih.gov/pmc/articles/PMC4267638/)\n",
    "  - random forrest model: [randomForrest](https://cran.r-project.org/web/packages/randomForest/randomForest.pdf) R package with default paramers:\n",
    "    - `ntree=500` -> `n_estimators=500`\n",
    "    - `mtry=floor(sqrt(ncol(x)))` -> already the default"
   ]
  },
  {
   "cell_type": "markdown",
   "metadata": {},
   "source": [
    "## TODO\n",
    "\n",
    "- [ ] deploy the model to kipoi: \n",
    "  - for the conservation models require the vcf to be annotated using VEP\n",
    "    - extract the conservation scores then from there"
   ]
  },
  {
   "cell_type": "code",
   "execution_count": 1,
   "metadata": {},
   "outputs": [
    {
     "name": "stderr",
     "output_type": "stream",
     "text": [
      "/opt/modules/i12g/anaconda/3-5.0.1/lib/python3.6/site-packages/statsmodels/compat/pandas.py:56: FutureWarning: The pandas.core.datetools module is deprecated and will be removed in a future version. Please use the pandas.tseries module instead.\n",
      "  from pandas.core import datetools\n"
     ]
    }
   ],
   "source": [
    "import numpy as np\n",
    "import m_kipoi\n",
    "from copy import deepcopy\n",
    "import pandas as pd\n",
    "from plotnine import *\n",
    "import matplotlib.pyplot as plt\n",
    "from m_kipoi.config import get_data_dir\n",
    "from tqdm import tqdm\n",
    "from m_kipoi.exp.splicing.data import get_dbscsnv_Xy, get_clinvar_ext_Xy\n",
    "\n",
    "ddir = get_data_dir()"
   ]
  },
  {
   "cell_type": "code",
   "execution_count": 2,
   "metadata": {},
   "outputs": [],
   "source": [
    "# Use these Kipoi models\n",
    "models = [\"MaxEntScan/3prime\", \"MaxEntScan/5prime\", \"HAL\", \"labranchor\"]"
   ]
  },
  {
   "cell_type": "markdown",
   "metadata": {},
   "source": [
    "### Data\n",
    "\n",
    "#### ClinVar"
   ]
  },
  {
   "cell_type": "code",
   "execution_count": 4,
   "metadata": {},
   "outputs": [],
   "source": [
    "X_clinvar, y_clinvar = get_clinvar_ext_Xy()"
   ]
  },
  {
   "cell_type": "code",
   "execution_count": 6,
   "metadata": {},
   "outputs": [
    {
     "name": "stdout",
     "output_type": "stream",
     "text": [
      "0.6218811626511189\n",
      "11663\n"
     ]
    }
   ],
   "source": [
    "print(y_clinvar.mean())\n",
    "print(len(y_clinvar))"
   ]
  },
  {
   "cell_type": "code",
   "execution_count": 8,
   "metadata": {},
   "outputs": [],
   "source": [
    "X_clinvar['early_stop'] = X_clinvar.early_stop.astype(bool)\n",
    "y_clinvar = y_clinvar[~X_clinvar['early_stop']]\n",
    "X_clinvar = X_clinvar[~X_clinvar['early_stop']]"
   ]
  },
  {
   "cell_type": "code",
   "execution_count": 9,
   "metadata": {},
   "outputs": [],
   "source": [
    "# permute"
   ]
  },
  {
   "cell_type": "markdown",
   "metadata": {},
   "source": [
    "#### dbscSNV"
   ]
  },
  {
   "cell_type": "code",
   "execution_count": 10,
   "metadata": {},
   "outputs": [],
   "source": [
    "X_dbscsnv, y_dbscsnv = get_dbscsnv_Xy()"
   ]
  },
  {
   "cell_type": "markdown",
   "metadata": {},
   "source": [
    "## Features"
   ]
  },
  {
   "cell_type": "code",
   "execution_count": 11,
   "metadata": {},
   "outputs": [],
   "source": [
    "kipoi_features = [x for m in models for x in X_dbscsnv.columns[X_dbscsnv.columns.str.startswith(m)]]"
   ]
  },
  {
   "cell_type": "code",
   "execution_count": 12,
   "metadata": {},
   "outputs": [],
   "source": [
    "clinvar_kipoi_features = [x for m in models for x in X_clinvar.columns[X_clinvar.columns.str.startswith(m)]]"
   ]
  },
  {
   "cell_type": "code",
   "execution_count": 13,
   "metadata": {},
   "outputs": [],
   "source": [
    "#X_clinvar['labranchor_alt'] = np.log(X_clinvar['labranchor_alt'] / (1-X_clinvar['labranchor_alt']))\n",
    "#X_clinvar['labranchor_ref'] = np.log(X_clinvar['labranchor_ref'] / (1-X_clinvar['labranchor_ref']))"
   ]
  },
  {
   "cell_type": "code",
   "execution_count": 14,
   "metadata": {},
   "outputs": [],
   "source": [
    "kipoi_features = ['MaxEntScan/3prime_alt',\n",
    "                 'MaxEntScan/3prime_ref',\n",
    "                 'MaxEntScan/3prime_isna',\n",
    "                 'MaxEntScan/5prime_alt',\n",
    "                 'MaxEntScan/5prime_ref',\n",
    "                 'MaxEntScan/5prime_isna',\n",
    "                 'HAL_ref',\n",
    "                 'HAL_alt',\n",
    "                 'HAL_isna',\n",
    "                 'labranchor_logit_alt',\n",
    "                 'labranchor_logit_ref',\n",
    "                 'labranchor_isna']"
   ]
  },
  {
   "cell_type": "code",
   "execution_count": 15,
   "metadata": {},
   "outputs": [],
   "source": [
    "kipoi_na_features = [x for x in kipoi_features if x.endswith(\"_isna\")]"
   ]
  },
  {
   "cell_type": "code",
   "execution_count": 16,
   "metadata": {},
   "outputs": [],
   "source": [
    "dbscsnv_model_features = ['PWM_ref', 'PWM_alt',\n",
    "                          'MES_ref', 'MES_alt', \n",
    "                          'NNSplice_ref', 'NNSplice_alt', \n",
    "                          'HSF_ref', 'HSF_alt', \n",
    "                          'GeneSplicer_ref', 'GeneSplicer_alt', \n",
    "                          'GENSCAN_ref', 'GENSCAN_alt', \n",
    "                          'NetGene2_ref', 'NetGene2_alt', \n",
    "                          'SplicePredictor_ref', 'SplicePredictor_alt']"
   ]
  },
  {
   "cell_type": "code",
   "execution_count": 17,
   "metadata": {},
   "outputs": [],
   "source": [
    "conservation_features = ['phyloP46way_placental', 'phyloP46way_primate', 'CADD_raw', 'CADD_phred']"
   ]
  },
  {
   "cell_type": "code",
   "execution_count": 18,
   "metadata": {},
   "outputs": [],
   "source": [
    "dbscsnv_dbscsnv_feat = ['dbscSNV_rf_score', 'dbscSNV_rf_score_isna']"
   ]
  },
  {
   "cell_type": "code",
   "execution_count": 19,
   "metadata": {},
   "outputs": [],
   "source": [
    "clinvar_cons_feat = ['CADD_raw', 'CADD_phred', 'phyloP46way_placental', 'phyloP46way_primate']\n",
    "clinvar_dbscSNV_feat = ['dbscSNV_rf_score', 'dbscSNV_rf_score_isna']\n",
    "spidex_feat = ['dpsi_max_tissue', 'dpsi_zscore', 'dpsi_max_tissue_isna', 'dpsi_zscore_isna']"
   ]
  },
  {
   "cell_type": "code",
   "execution_count": 20,
   "metadata": {},
   "outputs": [],
   "source": [
    "dbscsnv_features = dbscsnv_model_features + conservation_features"
   ]
  },
  {
   "cell_type": "markdown",
   "metadata": {},
   "source": [
    "## Modeling"
   ]
  },
  {
   "cell_type": "code",
   "execution_count": 21,
   "metadata": {},
   "outputs": [
    {
     "name": "stderr",
     "output_type": "stream",
     "text": [
      "/users/avsec/bin/anaconda3/lib/python3.6/site-packages/h5py/__init__.py:36: FutureWarning: Conversion of the second argument of issubdtype from `float` to `np.floating` is deprecated. In future, it will be treated as `np.float64 == np.dtype(float).type`.\n",
      "  from ._conv import register_converters as _register_converters\n",
      "Using TensorFlow backend.\n"
     ]
    }
   ],
   "source": [
    "# Scikit-learn imports\n",
    "import sklearn\n",
    "from sklearn.base import BaseEstimator, TransformerMixin\n",
    "from sklearn.model_selection import cross_validate, cross_val_predict\n",
    "from sklearn.pipeline import Pipeline\n",
    "from sklearn.linear_model import LogisticRegression, LogisticRegressionCV\n",
    "from sklearn.ensemble import RandomForestClassifier\n",
    "from sklearn.preprocessing import LabelEncoder, LabelBinarizer\n",
    "from sklearn.ensemble import RandomForestClassifier\n",
    "from sklearn_pandas import DataFrameMapper\n",
    "\n",
    "from m_kipoi.metrics import classification_metric, classification_metrics, BootstrapMetric, MetricsOrderedDict"
   ]
  },
  {
   "cell_type": "code",
   "execution_count": 22,
   "metadata": {},
   "outputs": [],
   "source": [
    "class ZeroImputer(BaseEstimator, TransformerMixin):\n",
    "    def fit(self, X, y=None):\n",
    "        return self\n",
    "    def transform(self, X, y=None):\n",
    "        return pd.DataFrame(X).fillna(0).copy()"
   ]
  },
  {
   "cell_type": "code",
   "execution_count": 23,
   "metadata": {},
   "outputs": [],
   "source": [
    "def preproc(features):\n",
    "    \"\"\"Pre-processing pipeline\n",
    "    \"\"\"\n",
    "    return DataFrameMapper([\n",
    "            (features, [ZeroImputer(), \n",
    "                        sklearn.preprocessing.StandardScaler(),\n",
    "                       ]),\n",
    "        ])"
   ]
  },
  {
   "cell_type": "code",
   "execution_count": 24,
   "metadata": {},
   "outputs": [],
   "source": [
    "# model = LogisticRegressionCV(penalty=\"l1\", solver='liblinear', scoring=\"roc_auc\", cv=3, n_jobs=1)\n",
    "# LogReg is completely fine here as D < 20 < 1000 < N\n",
    "model = LogisticRegression()"
   ]
  },
  {
   "cell_type": "code",
   "execution_count": 25,
   "metadata": {},
   "outputs": [],
   "source": [
    "np.random.seed(42)"
   ]
  },
  {
   "cell_type": "code",
   "execution_count": 26,
   "metadata": {},
   "outputs": [],
   "source": [
    "def evaluate(df, y, features, model, model_name):\n",
    "        perm = np.random.permutation(len(df))  # permute rows\n",
    "        ret = cross_validate(Pipeline([('preproc', preproc(features)), \n",
    "                                       ('model', model)]), \n",
    "                             df.iloc[perm], y[perm], scoring=['accuracy', 'roc_auc'], cv=10, n_jobs=10, return_train_score=True)\n",
    "        means = pd.DataFrame(ret).describe().loc['mean']\n",
    "        means.index = \"mean_\" + means.index\n",
    "        sds = pd.DataFrame(ret).describe().loc['std']\n",
    "        sds.index = \"std_\" + sds.index\n",
    "        return pd.DataFrame([{**dict(means), **dict(sds), \"model_name\": model_name}])"
   ]
  },
  {
   "cell_type": "code",
   "execution_count": 27,
   "metadata": {},
   "outputs": [],
   "source": [
    "def run_model_groups(df, y, model_groups,\n",
    "                     model=LogisticRegressionCV(penalty=\"l1\", solver='liblinear', scoring=\"roc_auc\", cv=3, n_jobs=1)):\n",
    "    res = []\n",
    "    use_features = []\n",
    "    for mg in tqdm(model_groups):\n",
    "        use_features += [f for f in df.columns if f.startswith(mg)]\n",
    "        if mg=='labranchor':\n",
    "            mg = 'labranchor (KipoiSplice4)'\n",
    "        res.append(evaluate(df, y, use_features, model, model_name=mg))\n",
    "    return pd.concat(res)"
   ]
  },
  {
   "cell_type": "code",
   "execution_count": 32,
   "metadata": {},
   "outputs": [
    {
     "name": "stderr",
     "output_type": "stream",
     "text": [
      "100%|██████████| 4/4 [00:07<00:00,  1.78s/it]\n"
     ]
    }
   ],
   "source": [
    "res_dbscsnv = run_model_groups(X_dbscsnv, y_dbscsnv, models, model=model)"
   ]
  },
  {
   "cell_type": "code",
   "execution_count": 33,
   "metadata": {},
   "outputs": [],
   "source": [
    "res_dbscsnv = res_dbscsnv.append(evaluate(X_dbscsnv, y_dbscsnv, kipoi_features + conservation_features, \n",
    "                                          model=model,\n",
    "                                          model_name=\"KipoiSplice4 w/ cons.\"))"
   ]
  },
  {
   "cell_type": "code",
   "execution_count": 34,
   "metadata": {},
   "outputs": [],
   "source": [
    "#res_dbscsnv = res_dbscsnv.append(evaluate(X_dbscsnv, y_dbscsnv, dbscsnv_model_features,\n",
    "#                                          model=model,\n",
    "#                                          model_name=\"dbscSNV w/o cons.\"))"
   ]
  },
  {
   "cell_type": "code",
   "execution_count": 35,
   "metadata": {},
   "outputs": [],
   "source": [
    "res_dbscsnv = res_dbscsnv.append(evaluate(X_dbscsnv, y_dbscsnv, dbscsnv_model_features + conservation_features,\n",
    "                                          model=model,\n",
    "                                          model_name=\"dbscSNV\"))"
   ]
  },
  {
   "cell_type": "code",
   "execution_count": 36,
   "metadata": {},
   "outputs": [],
   "source": [
    "#res_dbscsnv = res_dbscsnv.append(evaluate(X_dbscsnv, y_dbscsnv, dbscsnv_dbscsnv_feat,\n",
    "#                                          model=model,\n",
    "#                                          model_name=\"dbscSNV rf_score\"))"
   ]
  },
  {
   "cell_type": "code",
   "execution_count": 37,
   "metadata": {},
   "outputs": [],
   "source": [
    "res_dbscsnv = res_dbscsnv.append(evaluate(X_dbscsnv, y_dbscsnv, spidex_feat,\n",
    "                                          model=model,\n",
    "                                          model_name=\"SPIDEX\"))"
   ]
  },
  {
   "cell_type": "code",
   "execution_count": 38,
   "metadata": {},
   "outputs": [],
   "source": [
    "res_dbscsnv = res_dbscsnv.append(evaluate(X_dbscsnv, y_dbscsnv, spidex_feat + clinvar_cons_feat,\n",
    "                                          model=model,\n",
    "                                          model_name=\"SPIDEX w/ cons.\"))"
   ]
  },
  {
   "cell_type": "code",
   "execution_count": 39,
   "metadata": {},
   "outputs": [
    {
     "name": "stderr",
     "output_type": "stream",
     "text": [
      "100%|██████████| 4/4 [00:06<00:00,  1.55s/it]\n"
     ]
    }
   ],
   "source": [
    "res_clinvar = run_model_groups(X_clinvar, y_clinvar, models, model=model)"
   ]
  },
  {
   "cell_type": "code",
   "execution_count": 40,
   "metadata": {},
   "outputs": [],
   "source": [
    "res_clinvar = res_clinvar.append(evaluate(X_clinvar, y_clinvar, clinvar_kipoi_features + clinvar_cons_feat, \n",
    "                                          model=model,\n",
    "                                          model_name=\"KipoiSplice4 w/ cons.\"))"
   ]
  },
  {
   "cell_type": "code",
   "execution_count": 41,
   "metadata": {},
   "outputs": [],
   "source": [
    "res_clinvar = res_clinvar.append(evaluate(X_clinvar, y_clinvar, dbscsnv_dbscsnv_feat,\n",
    "                                          model=model,\n",
    "                                          model_name=\"dbscSNV\"))"
   ]
  },
  {
   "cell_type": "code",
   "execution_count": 42,
   "metadata": {},
   "outputs": [],
   "source": [
    "res_clinvar = res_clinvar.append(evaluate(X_clinvar, y_clinvar, spidex_feat,\n",
    "                                          model=model,\n",
    "                                          model_name=\"SPIDEX\"))"
   ]
  },
  {
   "cell_type": "code",
   "execution_count": 43,
   "metadata": {},
   "outputs": [],
   "source": [
    "res_clinvar = res_clinvar.append(evaluate(X_clinvar, y_clinvar, spidex_feat + clinvar_cons_feat,\n",
    "                                          model=model,\n",
    "                                          model_name=\"SPIDEX w/ cons.\"))"
   ]
  },
  {
   "cell_type": "code",
   "execution_count": 86,
   "metadata": {},
   "outputs": [
    {
     "data": {
      "text/plain": [
       "0.5888940737284181"
      ]
     },
     "execution_count": 86,
     "metadata": {},
     "output_type": "execute_result"
    }
   ],
   "source": [
    "y_clinvar.mean()"
   ]
  },
  {
   "cell_type": "code",
   "execution_count": 89,
   "metadata": {},
   "outputs": [
    {
     "data": {
      "text/plain": [
       "4405"
      ]
     },
     "execution_count": 89,
     "metadata": {},
     "output_type": "execute_result"
    }
   ],
   "source": [
    "np.sum(y_clinvar==0)"
   ]
  },
  {
   "cell_type": "code",
   "execution_count": 88,
   "metadata": {},
   "outputs": [
    {
     "data": {
      "text/plain": [
       "10715"
      ]
     },
     "execution_count": 88,
     "metadata": {},
     "output_type": "execute_result"
    }
   ],
   "source": [
    "y_clinvar.size"
   ]
  },
  {
   "cell_type": "code",
   "execution_count": 44,
   "metadata": {},
   "outputs": [
    {
     "data": {
      "text/html": [
       "<div>\n",
       "<style scoped>\n",
       "    .dataframe tbody tr th:only-of-type {\n",
       "        vertical-align: middle;\n",
       "    }\n",
       "\n",
       "    .dataframe tbody tr th {\n",
       "        vertical-align: top;\n",
       "    }\n",
       "\n",
       "    .dataframe thead th {\n",
       "        text-align: right;\n",
       "    }\n",
       "</style>\n",
       "<table border=\"1\" class=\"dataframe\">\n",
       "  <thead>\n",
       "    <tr style=\"text-align: right;\">\n",
       "      <th></th>\n",
       "      <th>MaxEntScan/3prime_alt</th>\n",
       "      <th>MaxEntScan/3prime_ref</th>\n",
       "      <th>MaxEntScan/3prime_isna</th>\n",
       "      <th>MaxEntScan/5prime_alt</th>\n",
       "      <th>MaxEntScan/5prime_ref</th>\n",
       "      <th>MaxEntScan/5prime_isna</th>\n",
       "      <th>HAL_alt</th>\n",
       "      <th>HAL_ref</th>\n",
       "      <th>HAL_isna</th>\n",
       "      <th>labranchor_alt</th>\n",
       "      <th>labranchor_ref</th>\n",
       "      <th>labranchor_isna</th>\n",
       "    </tr>\n",
       "  </thead>\n",
       "  <tbody>\n",
       "    <tr>\n",
       "      <th>count</th>\n",
       "      <td>4475.000000</td>\n",
       "      <td>4475.000000</td>\n",
       "      <td>10715.000000</td>\n",
       "      <td>3562.000000</td>\n",
       "      <td>3562.000000</td>\n",
       "      <td>10715.000000</td>\n",
       "      <td>6588.000000</td>\n",
       "      <td>6588.000000</td>\n",
       "      <td>10715.000000</td>\n",
       "      <td>4381.000000</td>\n",
       "      <td>4381.000000</td>\n",
       "      <td>10715.000000</td>\n",
       "    </tr>\n",
       "    <tr>\n",
       "      <th>mean</th>\n",
       "      <td>5.043700</td>\n",
       "      <td>8.380579</td>\n",
       "      <td>0.582361</td>\n",
       "      <td>2.089179</td>\n",
       "      <td>8.195538</td>\n",
       "      <td>0.667569</td>\n",
       "      <td>9.951030</td>\n",
       "      <td>13.727115</td>\n",
       "      <td>0.385161</td>\n",
       "      <td>0.318928</td>\n",
       "      <td>0.322029</td>\n",
       "      <td>0.591134</td>\n",
       "    </tr>\n",
       "    <tr>\n",
       "      <th>std</th>\n",
       "      <td>4.976669</td>\n",
       "      <td>2.983431</td>\n",
       "      <td>0.493193</td>\n",
       "      <td>4.085698</td>\n",
       "      <td>2.675553</td>\n",
       "      <td>0.471107</td>\n",
       "      <td>5.499314</td>\n",
       "      <td>3.177463</td>\n",
       "      <td>0.486656</td>\n",
       "      <td>0.259886</td>\n",
       "      <td>0.269793</td>\n",
       "      <td>0.491647</td>\n",
       "    </tr>\n",
       "    <tr>\n",
       "      <th>min</th>\n",
       "      <td>-27.178087</td>\n",
       "      <td>-27.208165</td>\n",
       "      <td>0.000000</td>\n",
       "      <td>-31.974668</td>\n",
       "      <td>-38.362911</td>\n",
       "      <td>0.000000</td>\n",
       "      <td>-4.158578</td>\n",
       "      <td>-4.469630</td>\n",
       "      <td>0.000000</td>\n",
       "      <td>0.000032</td>\n",
       "      <td>0.000031</td>\n",
       "      <td>0.000000</td>\n",
       "    </tr>\n",
       "    <tr>\n",
       "      <th>25%</th>\n",
       "      <td>1.075200</td>\n",
       "      <td>6.978045</td>\n",
       "      <td>0.000000</td>\n",
       "      <td>-0.199414</td>\n",
       "      <td>7.303878</td>\n",
       "      <td>0.000000</td>\n",
       "      <td>4.823227</td>\n",
       "      <td>11.899383</td>\n",
       "      <td>0.000000</td>\n",
       "      <td>0.103977</td>\n",
       "      <td>0.094611</td>\n",
       "      <td>0.000000</td>\n",
       "    </tr>\n",
       "    <tr>\n",
       "      <th>50%</th>\n",
       "      <td>6.109886</td>\n",
       "      <td>8.684237</td>\n",
       "      <td>1.000000</td>\n",
       "      <td>1.450201</td>\n",
       "      <td>8.680067</td>\n",
       "      <td>1.000000</td>\n",
       "      <td>11.023940</td>\n",
       "      <td>13.779176</td>\n",
       "      <td>0.000000</td>\n",
       "      <td>0.246483</td>\n",
       "      <td>0.249476</td>\n",
       "      <td>1.000000</td>\n",
       "    </tr>\n",
       "    <tr>\n",
       "      <th>75%</th>\n",
       "      <td>9.133985</td>\n",
       "      <td>10.222266</td>\n",
       "      <td>1.000000</td>\n",
       "      <td>4.105201</td>\n",
       "      <td>9.787718</td>\n",
       "      <td>1.000000</td>\n",
       "      <td>14.321706</td>\n",
       "      <td>15.767149</td>\n",
       "      <td>1.000000</td>\n",
       "      <td>0.489607</td>\n",
       "      <td>0.504195</td>\n",
       "      <td>1.000000</td>\n",
       "    </tr>\n",
       "    <tr>\n",
       "      <th>max</th>\n",
       "      <td>14.729229</td>\n",
       "      <td>14.926790</td>\n",
       "      <td>1.000000</td>\n",
       "      <td>11.806539</td>\n",
       "      <td>11.806539</td>\n",
       "      <td>1.000000</td>\n",
       "      <td>26.847177</td>\n",
       "      <td>26.847177</td>\n",
       "      <td>1.000000</td>\n",
       "      <td>0.975016</td>\n",
       "      <td>0.978082</td>\n",
       "      <td>1.000000</td>\n",
       "    </tr>\n",
       "  </tbody>\n",
       "</table>\n",
       "</div>"
      ],
      "text/plain": [
       "       MaxEntScan/3prime_alt  MaxEntScan/3prime_ref  MaxEntScan/3prime_isna  \\\n",
       "count            4475.000000            4475.000000            10715.000000   \n",
       "mean                5.043700               8.380579                0.582361   \n",
       "std                 4.976669               2.983431                0.493193   \n",
       "min               -27.178087             -27.208165                0.000000   \n",
       "25%                 1.075200               6.978045                0.000000   \n",
       "50%                 6.109886               8.684237                1.000000   \n",
       "75%                 9.133985              10.222266                1.000000   \n",
       "max                14.729229              14.926790                1.000000   \n",
       "\n",
       "       MaxEntScan/5prime_alt  MaxEntScan/5prime_ref  MaxEntScan/5prime_isna  \\\n",
       "count            3562.000000            3562.000000            10715.000000   \n",
       "mean                2.089179               8.195538                0.667569   \n",
       "std                 4.085698               2.675553                0.471107   \n",
       "min               -31.974668             -38.362911                0.000000   \n",
       "25%                -0.199414               7.303878                0.000000   \n",
       "50%                 1.450201               8.680067                1.000000   \n",
       "75%                 4.105201               9.787718                1.000000   \n",
       "max                11.806539              11.806539                1.000000   \n",
       "\n",
       "           HAL_alt      HAL_ref      HAL_isna  labranchor_alt  labranchor_ref  \\\n",
       "count  6588.000000  6588.000000  10715.000000     4381.000000     4381.000000   \n",
       "mean      9.951030    13.727115      0.385161        0.318928        0.322029   \n",
       "std       5.499314     3.177463      0.486656        0.259886        0.269793   \n",
       "min      -4.158578    -4.469630      0.000000        0.000032        0.000031   \n",
       "25%       4.823227    11.899383      0.000000        0.103977        0.094611   \n",
       "50%      11.023940    13.779176      0.000000        0.246483        0.249476   \n",
       "75%      14.321706    15.767149      1.000000        0.489607        0.504195   \n",
       "max      26.847177    26.847177      1.000000        0.975016        0.978082   \n",
       "\n",
       "       labranchor_isna  \n",
       "count     10715.000000  \n",
       "mean          0.591134  \n",
       "std           0.491647  \n",
       "min           0.000000  \n",
       "25%           0.000000  \n",
       "50%           1.000000  \n",
       "75%           1.000000  \n",
       "max           1.000000  "
      ]
     },
     "execution_count": 44,
     "metadata": {},
     "output_type": "execute_result"
    }
   ],
   "source": [
    "X_clinvar[clinvar_kipoi_features].describe()"
   ]
  },
  {
   "cell_type": "markdown",
   "metadata": {},
   "source": [
    "### Plot"
   ]
  },
  {
   "cell_type": "code",
   "execution_count": 45,
   "metadata": {},
   "outputs": [],
   "source": [
    "import matplotlib.pyplot as plt"
   ]
  },
  {
   "cell_type": "code",
   "execution_count": 46,
   "metadata": {},
   "outputs": [],
   "source": [
    "cm = plt.get_cmap('tab10')"
   ]
  },
  {
   "cell_type": "code",
   "execution_count": 51,
   "metadata": {},
   "outputs": [
    {
     "data": {
      "text/plain": [
       "['MaxEntScan/3prime',\n",
       " 'MaxEntScan/5prime',\n",
       " 'HAL',\n",
       " 'labranchor (KipoiSplice4)',\n",
       " 'KipoiSplice4 w/ cons.']"
      ]
     },
     "execution_count": 51,
     "metadata": {},
     "output_type": "execute_result"
    }
   ],
   "source": [
    "list(res_dbscsnv.model_name[:5])"
   ]
  },
  {
   "cell_type": "code",
   "execution_count": 57,
   "metadata": {},
   "outputs": [
    {
     "data": {
      "text/plain": [
       "['dbscSNV', 'SPIDEX', 'SPIDEX w/ cons.']"
      ]
     },
     "execution_count": 57,
     "metadata": {},
     "output_type": "execute_result"
    }
   ],
   "source": [
    "list(res_dbscsnv.model_name[5:])"
   ]
  },
  {
   "cell_type": "code",
   "execution_count": 54,
   "metadata": {},
   "outputs": [],
   "source": [
    "kipoi_model_names = [\n",
    "    'MaxEntScan/3prime',\n",
    "     '+MaxEntScan/5prime',\n",
    "     '+HAL',\n",
    "     '+labranchor',\n",
    "     '+conservation (KipoiSplice4)']"
   ]
  },
  {
   "cell_type": "code",
   "execution_count": 78,
   "metadata": {},
   "outputs": [],
   "source": [
    "res_clinvar = res_clinvar.iloc[:-2]"
   ]
  },
  {
   "cell_type": "code",
   "execution_count": 82,
   "metadata": {},
   "outputs": [],
   "source": [
    "other_model_names = ['dbscSNV', 'SPIDEX', 'SPIDEX+conservation']"
   ]
  },
  {
   "cell_type": "code",
   "execution_count": 80,
   "metadata": {},
   "outputs": [],
   "source": [
    "cv_other_model_names = list(res_clinvar.model_name[5:])"
   ]
  },
  {
   "cell_type": "code",
   "execution_count": 85,
   "metadata": {},
   "outputs": [
    {
     "data": {
      "image/png": "[encoded data removed]",
      "text/plain": [
       "<Figure size 864x288 with 2 Axes>"
      ]
     },
     "execution_count": 85,
     "metadata": {},
     "output_type": "execute_result"
    }
   ],
   "source": [
    "fig=plt.figure(figsize=(12, 4))\n",
    "fig.subplots_adjust(bottom=0.3, left=0.1)\n",
    "plt.subplot(121)\n",
    "col1 = cm.colors[0]\n",
    "col2 = cm.colors[1]\n",
    "tilt = 30\n",
    "plt.errorbar(kipoi_model_names, res_dbscsnv.mean_test_roc_auc[:5], yerr=res_dbscsnv.std_test_roc_auc[:5], fmt='o--', color=col1)\n",
    "#plt.errorbar(res_dbscsnv.model_name[4:5], res_dbscsnv.mean_test_roc_auc[4:5], yerr=res_dbscsnv.std_test_roc_auc[4:5], fmt='o', color=col1)\n",
    "plt.errorbar(other_model_names, res_dbscsnv.mean_test_roc_auc[5:], yerr=res_dbscsnv.std_test_roc_auc[5:], fmt='o', color=col2)\n",
    "plt.ylabel(\"auROC\")\n",
    "#plt.errorbar([\"asd\"], [.9], yerr=[.1], fmt='o--')\n",
    "plt.title(\"dbscSNV\")\n",
    "plt.ylim((None, 1))\n",
    "plt.grid(alpha=0.4)\n",
    "plt.xticks(rotation=tilt, horizontalalignment=\"right\");\n",
    "plt.subplot(122)\n",
    "plt.errorbar(kipoi_model_names, res_clinvar.mean_test_roc_auc[:5], yerr=res_clinvar.std_test_roc_auc[:5], fmt='p--', color=col1)\n",
    "#plt.errorbar(res_clinvar.model_name[4:5], res_clinvar.mean_test_roc_auc[4:5], yerr=res_clinvar.std_test_roc_auc[4:5], fmt='o', color=col1)\n",
    "plt.errorbar(other_model_names, res_clinvar.mean_test_roc_auc[5:], yerr=res_clinvar.std_test_roc_auc[5:], fmt='o', color=col2)\n",
    "plt.title(\"ClinVar\")\n",
    "plt.grid(alpha=0.4)\n",
    "plt.ylim((None, 1))\n",
    "plt.ylabel(\"auROC\")\n",
    "plt.xticks(rotation=tilt, horizontalalignment=\"right\");\n",
    "#plt.tight_layout(h_pad=0);\n",
    "plt.savefig('plots/fig5c_clinvar_20180429.png', dpi=600)\n",
    "plt.savefig('plots/fig5c_clinvar_20180429.pdf', dpi=600)\n",
    "plt.close(fig)    # close the figure\n",
    "fig"
   ]
  },
  {
   "cell_type": "code",
   "execution_count": 165,
   "metadata": {},
   "outputs": [],
   "source": [
    "isna_clinvar = X_clinvar.filter(like=\"_isna\", axis=1)"
   ]
  },
  {
   "cell_type": "code",
   "execution_count": 166,
   "metadata": {},
   "outputs": [
    {
     "name": "stderr",
     "output_type": "stream",
     "text": [
      "/users/avsec/bin/anaconda3/lib/python3.6/site-packages/ipykernel/__main__.py:1: SettingWithCopyWarning: \n",
      "A value is trying to be set on a copy of a slice from a DataFrame.\n",
      "Try using .loc[row_indexer,col_indexer] = value instead\n",
      "\n",
      "See the caveats in the documentation: http://pandas.pydata.org/pandas-docs/stable/indexing.html#indexing-view-versus-copy\n",
      "  if __name__ == '__main__':\n"
     ]
    }
   ],
   "source": [
    "isna_clinvar['KipoiSplice4_isna'] = isna_clinvar[pd.Series(models)+\"_isna\"].min(axis=1)\n",
    "isna_clinvar = isna_clinvar.mean().sort_index().reset_index().rename(columns={\"index\": \"Method\", 0: \"NA_frac\"})\n",
    "isna_clinvar['Dataset'] = \"ClinVar\"\n",
    "isna_clinvar['Method'] = isna_clinvar['Method'].str.replace(\"_isna\", \"\")"
   ]
  },
  {
   "cell_type": "code",
   "execution_count": 167,
   "metadata": {},
   "outputs": [],
   "source": [
    "isna_dbscsnv = X_dbscsnv.iloc[:,~X_dbscsnv.columns.str.contains(\"rbp_eclip\")].filter(like=\"_isna\", axis=1)\n",
    "isna_dbscsnv['KipoiSplice4_isna'] = isna_dbscsnv[pd.Series(models)+\"_isna\"].min(axis=1)\n",
    "isna_dbscsnv = isna_dbscsnv.mean().sort_index().reset_index().rename(columns={\"index\": \"Method\", 0: \"NA_frac\"})\n",
    "isna_dbscsnv['Dataset'] = \"dbscSNV\"\n",
    "isna_dbscsnv['Method'] = isna_dbscsnv['Method'].str.replace(\"_isna\", \"\")"
   ]
  },
  {
   "cell_type": "code",
   "execution_count": 168,
   "metadata": {},
   "outputs": [],
   "source": [
    "df_isna = pd.concat([isna_clinvar, isna_dbscsnv])"
   ]
  },
  {
   "cell_type": "code",
   "execution_count": 169,
   "metadata": {},
   "outputs": [],
   "source": [
    "df_isna = df_isna[~df_isna.Method.str.contains(\"ada_score\")]\n",
    "df_isna = df_isna[~df_isna.Method.str.contains(\"max_tissue\")]"
   ]
  },
  {
   "cell_type": "code",
   "execution_count": 170,
   "metadata": {},
   "outputs": [],
   "source": [
    "df_isna['Method'] = df_isna.Method.replace({\"dbscSNV_rf_score\": \"dbscSNV\", 'dpsi_zscore': 'SPIDEX'})"
   ]
  },
  {
   "cell_type": "code",
   "execution_count": 171,
   "metadata": {},
   "outputs": [],
   "source": [
    "methods = df_isna.Method.unique()[::-1].tolist()\n",
    "datasets = df_isna.Dataset.unique()[::-1].tolist()"
   ]
  },
  {
   "cell_type": "code",
   "execution_count": 172,
   "metadata": {},
   "outputs": [],
   "source": [
    "methods =['MaxEntScan/3prime',\n",
    "          'MaxEntScan/5prime',\n",
    "          'HAL',\n",
    "          'labranchor',\n",
    "          'Kipoi4',\n",
    "          'dbscSNV',\n",
    "          'SPIDEX'][::-1]"
   ]
  },
  {
   "cell_type": "code",
   "execution_count": 173,
   "metadata": {},
   "outputs": [],
   "source": [
    "import plotnine"
   ]
  },
  {
   "cell_type": "code",
   "execution_count": 178,
   "metadata": {},
   "outputs": [
    {
     "data": {
      "text/html": [
       "<div>\n",
       "<style scoped>\n",
       "    .dataframe tbody tr th:only-of-type {\n",
       "        vertical-align: middle;\n",
       "    }\n",
       "\n",
       "    .dataframe tbody tr th {\n",
       "        vertical-align: top;\n",
       "    }\n",
       "\n",
       "    .dataframe thead th {\n",
       "        text-align: right;\n",
       "    }\n",
       "</style>\n",
       "<table border=\"1\" class=\"dataframe\">\n",
       "  <thead>\n",
       "    <tr style=\"text-align: right;\">\n",
       "      <th></th>\n",
       "      <th>Method</th>\n",
       "      <th>NA_frac</th>\n",
       "      <th>Dataset</th>\n",
       "    </tr>\n",
       "  </thead>\n",
       "  <tbody>\n",
       "    <tr>\n",
       "      <th>0</th>\n",
       "      <td>HAL</td>\n",
       "      <td>0.385161</td>\n",
       "      <td>ClinVar</td>\n",
       "    </tr>\n",
       "    <tr>\n",
       "      <th>1</th>\n",
       "      <td>KipoiSplice4</td>\n",
       "      <td>0.000000</td>\n",
       "      <td>ClinVar</td>\n",
       "    </tr>\n",
       "    <tr>\n",
       "      <th>2</th>\n",
       "      <td>MaxEntScan/3prime</td>\n",
       "      <td>0.582361</td>\n",
       "      <td>ClinVar</td>\n",
       "    </tr>\n",
       "    <tr>\n",
       "      <th>3</th>\n",
       "      <td>MaxEntScan/5prime</td>\n",
       "      <td>0.667569</td>\n",
       "      <td>ClinVar</td>\n",
       "    </tr>\n",
       "    <tr>\n",
       "      <th>5</th>\n",
       "      <td>dbscSNV</td>\n",
       "      <td>0.363976</td>\n",
       "      <td>ClinVar</td>\n",
       "    </tr>\n",
       "    <tr>\n",
       "      <th>7</th>\n",
       "      <td>SPIDEX</td>\n",
       "      <td>0.063462</td>\n",
       "      <td>ClinVar</td>\n",
       "    </tr>\n",
       "    <tr>\n",
       "      <th>8</th>\n",
       "      <td>labranchor</td>\n",
       "      <td>0.591134</td>\n",
       "      <td>ClinVar</td>\n",
       "    </tr>\n",
       "    <tr>\n",
       "      <th>0</th>\n",
       "      <td>HAL</td>\n",
       "      <td>0.367354</td>\n",
       "      <td>dbscSNV</td>\n",
       "    </tr>\n",
       "    <tr>\n",
       "      <th>1</th>\n",
       "      <td>KipoiSplice4</td>\n",
       "      <td>0.000338</td>\n",
       "      <td>dbscSNV</td>\n",
       "    </tr>\n",
       "    <tr>\n",
       "      <th>2</th>\n",
       "      <td>MaxEntScan/3prime</td>\n",
       "      <td>0.567421</td>\n",
       "      <td>dbscSNV</td>\n",
       "    </tr>\n",
       "    <tr>\n",
       "      <th>3</th>\n",
       "      <td>MaxEntScan/5prime</td>\n",
       "      <td>0.525853</td>\n",
       "      <td>dbscSNV</td>\n",
       "    </tr>\n",
       "    <tr>\n",
       "      <th>5</th>\n",
       "      <td>dbscSNV</td>\n",
       "      <td>0.032443</td>\n",
       "      <td>dbscSNV</td>\n",
       "    </tr>\n",
       "    <tr>\n",
       "      <th>7</th>\n",
       "      <td>SPIDEX</td>\n",
       "      <td>0.072998</td>\n",
       "      <td>dbscSNV</td>\n",
       "    </tr>\n",
       "    <tr>\n",
       "      <th>8</th>\n",
       "      <td>labranchor</td>\n",
       "      <td>0.634674</td>\n",
       "      <td>dbscSNV</td>\n",
       "    </tr>\n",
       "  </tbody>\n",
       "</table>\n",
       "</div>"
      ],
      "text/plain": [
       "              Method   NA_frac  Dataset\n",
       "0                HAL  0.385161  ClinVar\n",
       "1       KipoiSplice4  0.000000  ClinVar\n",
       "2  MaxEntScan/3prime  0.582361  ClinVar\n",
       "3  MaxEntScan/5prime  0.667569  ClinVar\n",
       "5            dbscSNV  0.363976  ClinVar\n",
       "7             SPIDEX  0.063462  ClinVar\n",
       "8         labranchor  0.591134  ClinVar\n",
       "0                HAL  0.367354  dbscSNV\n",
       "1       KipoiSplice4  0.000338  dbscSNV\n",
       "2  MaxEntScan/3prime  0.567421  dbscSNV\n",
       "3  MaxEntScan/5prime  0.525853  dbscSNV\n",
       "5            dbscSNV  0.032443  dbscSNV\n",
       "7             SPIDEX  0.072998  dbscSNV\n",
       "8         labranchor  0.634674  dbscSNV"
      ]
     },
     "execution_count": 178,
     "metadata": {},
     "output_type": "execute_result"
    }
   ],
   "source": [
    "df_isna"
   ]
  },
  {
   "cell_type": "code",
   "execution_count": 204,
   "metadata": {},
   "outputs": [],
   "source": [
    "methods"
   ]
  },
  {
   "cell_type": "code",
   "execution_count": 205,
   "metadata": {},
   "outputs": [],
   "source": [
    "df_isna['Method'] = pd.Categorical(df_isna.Method, methods)"
   ]
  },
  {
   "cell_type": "code",
   "execution_count": 206,
   "metadata": {},
   "outputs": [],
   "source": [
    "df_isna['Dataset'] = pd.Categorical(df_isna.Dataset, datasets)"
   ]
  },
  {
   "cell_type": "code",
   "execution_count": 207,
   "metadata": {},
   "outputs": [],
   "source": [
    "df_isna = df_isna.reset_index()"
   ]
  },
  {
   "cell_type": "code",
   "execution_count": 213,
   "metadata": {},
   "outputs": [
    {
     "data": {
      "image/png": "[encoded data removed]",
      "text/plain": [
       "<Figure size 200x200 with 1 Axes>"
      ]
     },
     "metadata": {},
     "output_type": "display_data"
    },
    {
     "data": {
      "text/plain": [
       "<ggplot: (-9223363298649943243)>"
      ]
     },
     "execution_count": 213,
     "metadata": {},
     "output_type": "execute_result"
    }
   ],
   "source": [
    "plotnine.options.figure_size = (2,2)\n",
    "gplt = ggplot(aes(x=\"Method\", y=\"NA_frac\", fill=\"Dataset\"), df_isna) + \\\n",
    "    geom_bar(stat='identity', position='dodge') + \\\n",
    "    ylab(\"NA fraction\") + \\\n",
    "    theme_minimal() + \\\n",
    "    theme(legend_box_margin=0,\n",
    "          legend_direction='horizontal', \n",
    "          legend_position='top') + \\\n",
    "    coord_flip()  + \\\n",
    "        scale_fill_brewer(\"qual\", 3)\n",
    "gplt"
   ]
  },
  {
   "cell_type": "code",
   "execution_count": 214,
   "metadata": {},
   "outputs": [
    {
     "name": "stderr",
     "output_type": "stream",
     "text": [
      "/users/avsec/bin/anaconda3/lib/python3.6/site-packages/plotnine/ggplot.py:688: UserWarning: Saving 2 x 2 in image.\n",
      "  from_inches(height, units), units))\n",
      "/users/avsec/bin/anaconda3/lib/python3.6/site-packages/plotnine/ggplot.py:689: UserWarning: Filename: fig5b_clinvar_20180429.pdf\n",
      "  warn('Filename: {}'.format(filename))\n",
      "/users/avsec/bin/anaconda3/lib/python3.6/site-packages/plotnine/ggplot.py:689: UserWarning: Filename: fig5b_clinvar_20180429.png\n",
      "  warn('Filename: {}'.format(filename))\n"
     ]
    }
   ],
   "source": [
    "gplt.save(\"plots/fig5b_clinvar_20180429.pdf\", dpi=600)\n",
    "gplt.save(\"plots/fig5b_clinvar_20180429.png\", dpi=600)"
   ]
  }
 ],
 "metadata": {
  "kernelspec": {
   "display_name": "Python [default]",
   "language": "python",
   "name": "python3"
  },
  "language_info": {
   "codemirror_mode": {
    "name": "ipython",
    "version": 3
   },
   "file_extension": ".py",
   "mimetype": "text/x-python",
   "name": "python",
   "nbconvert_exporter": "python",
   "pygments_lexer": "ipython3",
   "version": "3.6.3"
  }
 },
 "nbformat": 4,
 "nbformat_minor": 2
}
